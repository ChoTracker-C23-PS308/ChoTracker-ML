{
 "cells": [
  {
   "cell_type": "code",
   "execution_count": 28,
   "id": "5c73594b",
   "metadata": {},
   "outputs": [],
   "source": [
    "import os\n",
    "import cv2\n",
    "import numpy as np\n",
    "from skimage.feature import local_binary_pattern\n",
    "from sklearn.model_selection import train_test_split\n",
    "from sklearn.linear_model import LinearRegression\n",
    "\n",
    "from sklearn.metrics import confusion_matrix, accuracy_score, precision_score, recall_score, f1_score"
   ]
  },
  {
   "cell_type": "code",
   "execution_count": 6,
   "id": "e9ca28e7",
   "metadata": {},
   "outputs": [],
   "source": [
    "# Path ke direktori dataset\n",
    "dataset_dir = 'D:/@KULIAH SMTR 6/BANGKIT/CAPSTONE/dataset/dataset/'"
   ]
  },
  {
   "cell_type": "code",
   "execution_count": 79,
   "id": "207f40c6",
   "metadata": {},
   "outputs": [],
   "source": [
    "# Membaca dataset dan melakukan ekstraksi fitur menggunakan FLBP\n",
    "def extract_features(dataset_dir):\n",
    "    images = []\n",
    "    labels = []\n",
    "\n",
    "    for filename in os.listdir(dataset_dir):\n",
    "        if filename.endswith('.bmp'):\n",
    "            image_path = os.path.join(dataset_dir, filename)\n",
    "            image = cv2.imread(image_path, cv2.IMREAD_GRAYSCALE)\n",
    "            image = cv2.resize(image, (100, 100))  # Mengubah ukuran gambar menjadi 100x100 pixel\n",
    "            \n",
    "            # Ekstraksi fitur menggunakan FLBP\n",
    "            radius = 3\n",
    "            n_points = 4 * radius\n",
    "            lbp = local_binary_pattern(image, n_points, radius, method='uniform')\n",
    "            feature = np.histogram(lbp.ravel(), bins=np.arange(0, n_points + 3), range=(0, n_points + 2))[0]\n",
    "            \n",
    "            images.append(feature)\n",
    "            \n",
    "            # Mendapatkan angka kolestrol dari nama file\n",
    "            cholesterol = filename.split('-')[1]\n",
    "            if cholesterol.isdigit():\n",
    "                labels.append(int(cholesterol))\n",
    "            else:\n",
    "                print(\"Invalid filename format:\", filename)\n",
    "\n",
    "    return np.array(images), np.array(labels)"
   ]
  },
  {
   "cell_type": "code",
   "execution_count": 80,
   "id": "d94b813d",
   "metadata": {},
   "outputs": [],
   "source": [
    "# Memanggil fungsi untuk melakukan ekstraksi fitur dari dataset menggunakan FLBP\n",
    "images, labels = extract_features(dataset_dir)"
   ]
  },
  {
   "cell_type": "code",
   "execution_count": 81,
   "id": "745ee1ef",
   "metadata": {},
   "outputs": [
    {
     "data": {
      "text/plain": [
       "array([[ 542,  571,  367,  358,  475,  791, 1235,  788,  324,  312,  322,\n",
       "         475,  591, 2849],\n",
       "       [ 493,  503,  398,  403,  583,  844, 1320,  867,  480,  374,  333,\n",
       "         392,  505, 2505],\n",
       "       [ 615,  657,  325,  338,  465,  621,  916,  610,  329,  273,  303,\n",
       "         509,  729, 3310],\n",
       "       [ 549,  584,  389,  378,  417,  670, 1126,  696,  369,  319,  308,\n",
       "         506,  622, 3067],\n",
       "       [ 527,  654,  386,  314,  399,  662, 1292,  710,  353,  293,  315,\n",
       "         483,  639, 2973],\n",
       "       [ 520,  689,  389,  400,  476,  569,  885,  620,  415,  362,  388,\n",
       "         482,  678, 3127],\n",
       "       [ 529,  642,  394,  311,  453,  772, 1126,  795,  423,  344,  397,\n",
       "         479,  559, 2776],\n",
       "       [ 519,  585,  370,  375,  486,  739, 1181,  857,  420,  322,  337,\n",
       "         477,  570, 2762],\n",
       "       [ 476,  475,  442,  383,  464,  810, 1625, 1039,  407,  292,  321,\n",
       "         369,  485, 2412],\n",
       "       [ 573,  602,  354,  392,  421,  676, 1017,  840,  404,  323,  339,\n",
       "         481,  601, 2977],\n",
       "       [ 650,  574,  362,  343,  319,  571,  844,  702,  326,  323,  335,\n",
       "         514,  708, 3429],\n",
       "       [ 569,  589,  394,  398,  499,  626,  968,  702,  386,  302,  335,\n",
       "         509,  622, 3101],\n",
       "       [ 349,  513,  410,  460,  687,  926, 1262, 1016,  697,  472,  404,\n",
       "         358,  364, 2082],\n",
       "       [ 496,  523,  384,  358,  516,  788, 1352,  929,  391,  350,  297,\n",
       "         431,  549, 2636],\n",
       "       [ 495,  599,  331,  360,  487,  783, 1347,  839,  455,  397,  370,\n",
       "         374,  560, 2603],\n",
       "       [ 540,  566,  428,  326,  417,  764, 1114,  850,  473,  364,  402,\n",
       "         453,  527, 2776],\n",
       "       [ 571,  550,  391,  382,  436,  679, 1134,  819,  409,  332,  350,\n",
       "         479,  591, 2877],\n",
       "       [ 310,  464,  394,  411,  542, 1075, 1754, 1124,  428,  317,  340,\n",
       "         394,  364, 2083],\n",
       "       [ 539,  523,  495,  419,  520,  763, 1016,  725,  408,  374,  359,\n",
       "         514,  534, 2811],\n",
       "       [ 485,  564,  367,  352,  568,  876, 1256,  878,  445,  367,  342,\n",
       "         420,  500, 2580],\n",
       "       [ 548,  607,  356,  356,  490,  776, 1169,  784,  306,  257,  276,\n",
       "         515,  589, 2971],\n",
       "       [ 554,  559,  462,  364,  482,  657, 1076,  715,  410,  366,  371,\n",
       "         493,  576, 2915],\n",
       "       [ 536,  523,  501,  398,  464,  675, 1128,  707,  430,  420,  404,\n",
       "         479,  498, 2837],\n",
       "       [ 657,  550,  309,  314,  371,  658, 1102,  746,  385,  298,  271,\n",
       "         555,  634, 3150],\n",
       "       [ 589,  582,  371,  366,  413,  704, 1014,  786,  418,  331,  319,\n",
       "         474,  578, 3055],\n",
       "       [ 633,  663,  378,  330,  390,  601, 1079,  624,  349,  302,  293,\n",
       "         492,  701, 3165],\n",
       "       [ 512,  685,  386,  406,  463,  697, 1071,  680,  386,  361,  298,\n",
       "         533,  601, 2921],\n",
       "       [ 623,  608,  339,  305,  377,  641, 1097,  776,  405,  342,  336,\n",
       "         516,  605, 3030],\n",
       "       [ 567,  663,  412,  337,  375,  595,  962,  646,  403,  364,  354,\n",
       "         547,  649, 3126],\n",
       "       [ 617,  651,  407,  326,  370,  574,  954,  648,  370,  332,  353,\n",
       "         550,  643, 3205],\n",
       "       [ 619,  683,  409,  357,  406,  522,  843,  605,  344,  350,  396,\n",
       "         536,  692, 3238],\n",
       "       [ 604,  649,  394,  350,  408,  531,  915,  593,  347,  312,  337,\n",
       "         511,  743, 3306],\n",
       "       [ 572,  568,  371,  342,  427,  730, 1141,  719,  365,  363,  337,\n",
       "         440,  650, 2975],\n",
       "       [ 382,  580,  262,  305,  510,  984, 1572, 1080,  525,  357,  289,\n",
       "         375,  448, 2331],\n",
       "       [ 422,  552,  348,  336,  526,  871, 1438, 1011,  487,  353,  286,\n",
       "         364,  506, 2500],\n",
       "       [ 572,  634,  341,  350,  409,  621, 1104,  683,  347,  295,  303,\n",
       "         540,  688, 3113]], dtype=int64)"
      ]
     },
     "execution_count": 81,
     "metadata": {},
     "output_type": "execute_result"
    }
   ],
   "source": [
    "images"
   ]
  },
  {
   "cell_type": "code",
   "execution_count": 82,
   "id": "d79c6004",
   "metadata": {},
   "outputs": [],
   "source": [
    "# Membagi dataset menjadi data latih dan data uji\n",
    "X_train, X_test, y_train, y_test = train_test_split(images, labels, test_size=0.2, random_state=42)\n"
   ]
  },
  {
   "cell_type": "code",
   "execution_count": 83,
   "id": "5a8f781b",
   "metadata": {},
   "outputs": [
    {
     "data": {
      "text/plain": [
       "LinearRegression()"
      ]
     },
     "execution_count": 83,
     "metadata": {},
     "output_type": "execute_result"
    }
   ],
   "source": [
    "# Membangun model regresi linear\n",
    "model = LinearRegression()\n",
    "model.fit(X_train, y_train)"
   ]
  },
  {
   "cell_type": "code",
   "execution_count": 84,
   "id": "3e510726",
   "metadata": {},
   "outputs": [],
   "source": [
    "# Lakukan prediksi pada data uji\n",
    "y_pred = model.predict(X_test)\n",
    "\n",
    "\n",
    "\n",
    "# Konversi prediksi menjadi kelas menggunakan threshold tertentu (jika diperlukan)\n",
    "# Misalnya, jika tingkat kolestrol >= 200 dianggap tinggi, maka:\n",
    "threshold = 200\n",
    "y_pred_classes = (y_pred >= threshold).astype(int)\n",
    "y_test_classes = (y_test >= threshold).astype(int)\n",
    "\n",
    "# Evaluasi model\n",
    "confusion_mat = confusion_matrix(y_test_classes, y_pred_classes)\n",
    "accuracy = accuracy_score(y_test_classes, y_pred_classes)\n",
    "precision = precision_score(y_test_classes, y_pred_classes)\n",
    "recall = recall_score(y_test_classes, y_pred_classes)\n",
    "f1 = f1_score(y_test_classes, y_pred_classes)\n"
   ]
  },
  {
   "cell_type": "code",
   "execution_count": 85,
   "id": "a8051e6b",
   "metadata": {},
   "outputs": [
    {
     "name": "stdout",
     "output_type": "stream",
     "text": [
      "Confusion Matrix:\n",
      "[[1 2]\n",
      " [1 4]]\n",
      "Accuracy: 0.625\n",
      "Precision: 0.6666666666666666\n",
      "Recall: 0.8\n",
      "F1-Score: 0.7272727272727272\n"
     ]
    }
   ],
   "source": [
    "print(\"Confusion Matrix:\")\n",
    "print(confusion_mat)\n",
    "print(\"Accuracy:\", accuracy)\n",
    "print(\"Precision:\", precision)\n",
    "print(\"Recall:\", recall)\n",
    "print(\"F1-Score:\", f1)\n"
   ]
  },
  {
   "cell_type": "code",
   "execution_count": 86,
   "id": "b0ade9d4",
   "metadata": {},
   "outputs": [
    {
     "name": "stdout",
     "output_type": "stream",
     "text": [
      "Akurasi model: 0.3127843431696574\n"
     ]
    }
   ],
   "source": [
    "# Evaluasi model\n",
    "score = model.score(X_test, y_test)\n",
    "print(\"Akurasi model:\", score)"
   ]
  },
  {
   "cell_type": "markdown",
   "id": "b3bbd702",
   "metadata": {},
   "source": [
    "# Try to predict"
   ]
  },
  {
   "cell_type": "code",
   "execution_count": 87,
   "id": "640d9e2f",
   "metadata": {},
   "outputs": [
    {
     "name": "stdout",
     "output_type": "stream",
     "text": [
      "Gambar berhasil dibaca.\n"
     ]
    }
   ],
   "source": [
    "# Path gambar yang ingin diperiksa\n",
    "image_path = r'D:\\@KULIAH SMTR 6\\BANGKIT\\CAPSTONE\\dataset\\dataset\\kolesterol-247-14-kanan.bmp'\n",
    "\n",
    "# Membaca gambar menggunakan cv2.imread()\n",
    "image = cv2.imread(image_path)\n",
    "\n",
    "# Memeriksa apakah gambar berhasil dibaca\n",
    "if image is not None:\n",
    "    print(\"Gambar berhasil dibaca.\")\n",
    "    cv2.imshow(\"Gambar\", image)\n",
    "    cv2.waitKey(0)\n",
    "    cv2.destroyAllWindows()\n",
    "else:\n",
    "    print(\"Gagal membaca gambar.\")"
   ]
  },
  {
   "cell_type": "code",
   "execution_count": 40,
   "id": "9ad27ee4",
   "metadata": {},
   "outputs": [],
   "source": [
    "from skimage.feature import local_binary_pattern"
   ]
  },
  {
   "cell_type": "code",
   "execution_count": 88,
   "id": "e5c41191",
   "metadata": {},
   "outputs": [
    {
     "name": "stdout",
     "output_type": "stream",
     "text": [
      "Prediksi Kolesterol: [207.13502075]\n"
     ]
    }
   ],
   "source": [
    "# Coba Predict data\n",
    "# Memuat gambar\n",
    "image_path = r'D:\\@KULIAH SMTR 6\\BANGKIT\\CAPSTONE\\dataset\\dataset\\kolesterol-247-14-kanan.bmp'\n",
    "image = cv2.imread(image_path)\n",
    "\n",
    "image = cv2.imread(image_path, cv2.IMREAD_GRAYSCALE)\n",
    "image = cv2.resize(image, (100, 100))  # Mengubah ukuran gambar menjadi 100x100 pixel\n",
    "            \n",
    "# Ekstraksi fitur menggunakan FLBP\n",
    "radius = 3\n",
    "n_points = 4 * radius\n",
    "lbp = local_binary_pattern(image, n_points, radius, method='uniform')\n",
    "feature = np.histogram(lbp.ravel(), bins=np.arange(0, n_points + 3), range=(0, n_points + 2))[0]\n",
    "\n",
    "# Mengubah dimensi fitur menjadi bentuk yang dapat diterima oleh model (sesuaikan dengan bentuk fitur yang digunakan saat melatih model)\n",
    "feature = np.reshape(feature, (1, -1))\n",
    "\n",
    "# Melakukan prediksi menggunakan model\n",
    "prediction = model.predict(feature)\n",
    "\n",
    "# Cetak hasil prediksi\n",
    "print(\"Prediksi Kolesterol:\", prediction)"
   ]
  },
  {
   "cell_type": "code",
   "execution_count": 58,
   "id": "0d70cf5b",
   "metadata": {},
   "outputs": [
    {
     "name": "stdout",
     "output_type": "stream",
     "text": [
      "Requirement already satisfied: joblib in c:\\users\\user\\anaconda3\\lib\\site-packages (1.1.0)\n",
      "Note: you may need to restart the kernel to use updated packages.\n"
     ]
    }
   ],
   "source": [
    "pip install joblib"
   ]
  },
  {
   "cell_type": "code",
   "execution_count": 77,
   "id": "5b898b13",
   "metadata": {},
   "outputs": [
    {
     "data": {
      "text/plain": [
       "['regression_model.h5']"
      ]
     },
     "execution_count": 77,
     "metadata": {},
     "output_type": "execute_result"
    }
   ],
   "source": [
    "# Save Model menggunakan joblib\n",
    "import joblib\n",
    "\n",
    "# Simpan model ke dalam file .h5 menggunakan joblib\n",
    "joblib.dump(model, 'regression_model.h5')"
   ]
  },
  {
   "cell_type": "code",
   "execution_count": 64,
   "id": "83a0a0da",
   "metadata": {},
   "outputs": [],
   "source": [
    "# Muat kembali model dari file .h5\n",
    "model = joblib.load('regression_model.h5')"
   ]
  },
  {
   "cell_type": "code",
   "execution_count": 3,
   "id": "40a65ad5",
   "metadata": {},
   "outputs": [],
   "source": [
    "def extract_features(image):\n",
    "    # Implementasikan ekstraksi fitur sesuai kebutuhan Anda\n",
    "    # Misalnya, menggunakan FLBP seperti yang telah dibahas sebelumnya\n",
    "    # atau metode ekstraksi fitur lainnya seperti HOG, SIFT, dll.\n",
    "    # Di sini, kita menggunakan FLBP sebagai contoh\n",
    "    gray_image = cv2.cvtColor(image, cv2.COLOR_BGR2GRAY)\n",
    "    # Lakukan ekstraksi fitur FLBP\n",
    "    flbp_features = fuzzy_local_binary_pattern(gray_image)\n",
    "\n",
    "    return flbp_features"
   ]
  },
  {
   "cell_type": "code",
   "execution_count": null,
   "id": "3482333d",
   "metadata": {},
   "outputs": [],
   "source": []
  },
  {
   "cell_type": "code",
   "execution_count": null,
   "id": "32668486",
   "metadata": {},
   "outputs": [],
   "source": [
    "import cv2\n",
    "import numpy as np\n",
    "import pandas as pd\n",
    "\n",
    "def extract_features(image):\n",
    "    # Implementasikan ekstraksi fitur sesuai kebutuhan Anda\n",
    "    # Misalnya, menggunakan FLBP seperti yang telah dibahas sebelumnya\n",
    "    # atau metode ekstraksi fitur lainnya seperti HOG, SIFT, dll.\n",
    "    # Di sini, kita menggunakan FLBP sebagai contoh\n",
    "    gray_image = cv2.cvtColor(image, cv2.COLOR_BGR2GRAY)\n",
    "    # Lakukan ekstraksi fitur FLBP\n",
    "    flbp_features = fuzzy_local_binary_pattern(gray_image)\n",
    "\n",
    "    return flbp_features\n",
    "\n",
    "# Path ke dataset gambar mata dan kolestrolnya (CSV)\n",
    "dataset_path = 'dataset.csv'\n",
    "\n",
    "# Membaca dataset menggunakan pandas\n",
    "dataset = pd.read_csv(dataset_path)\n",
    "\n",
    "# Inisialisasi array untuk menyimpan fitur dan label\n",
    "features = []\n",
    "labels = []\n",
    "\n",
    "# Loop melalui setiap data gambar mata dalam dataset\n",
    "for index, row in dataset.iterrows():\n",
    "    image_path = row['image_path']\n",
    "    cholesterol = row['cholesterol']\n",
    "\n",
    "    # Baca gambar mata dari path\n",
    "    image = cv2.imread(image_path)\n",
    "\n",
    "    # Ekstraksi fitur dari gambar mata\n",
    "    image_features = extract_features(image)\n",
    "\n",
    "    # Menambahkan fitur dan label ke dalam array\n",
    "    features.append(image_features)\n",
    "    labels.append(cholesterol)\n",
    "\n",
    "# Mengubah array fitur dan label menjadi bentuk yang dapat digunakan untuk pelatihan model\n",
    "features = np.array(features)\n",
    "labels = np.array(labels)\n"
   ]
  }
 ],
 "metadata": {
  "kernelspec": {
   "display_name": "Python 3 (ipykernel)",
   "language": "python",
   "name": "python3"
  },
  "language_info": {
   "codemirror_mode": {
    "name": "ipython",
    "version": 3
   },
   "file_extension": ".py",
   "mimetype": "text/x-python",
   "name": "python",
   "nbconvert_exporter": "python",
   "pygments_lexer": "ipython3",
   "version": "3.9.13"
  }
 },
 "nbformat": 4,
 "nbformat_minor": 5
}
