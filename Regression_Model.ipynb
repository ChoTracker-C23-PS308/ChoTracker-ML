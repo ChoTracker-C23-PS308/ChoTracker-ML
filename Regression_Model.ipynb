{
 "cells": [
  {
   "cell_type": "code",
   "execution_count": 1,
   "id": "5c73594b",
   "metadata": {},
   "outputs": [],
   "source": [
    "import os\n",
    "import cv2\n",
    "import numpy as np\n",
    "from skimage.feature import local_binary_pattern\n",
    "from sklearn.model_selection import train_test_split\n",
    "from sklearn.linear_model import LinearRegression\n",
    "\n",
    "from sklearn.metrics import confusion_matrix, accuracy_score, precision_score, recall_score, f1_score"
   ]
  },
  {
   "cell_type": "code",
   "execution_count": 207,
   "id": "e9ca28e7",
   "metadata": {},
   "outputs": [],
   "source": [
    "# Path ke direktori dataset\n",
    "dataset_dir = 'D:/@KULIAH SMTR 6/BANGKIT/CAPSTONE/dataset/dataset/'"
   ]
  },
  {
   "cell_type": "code",
   "execution_count": 220,
   "id": "207f40c6",
   "metadata": {},
   "outputs": [],
   "source": [
    "# Membaca dataset dan melakukan ekstraksi fitur menggunakan FLBP\n",
    "def extract_features(dataset_dir):\n",
    "    images = []\n",
    "    labels = []\n",
    "\n",
    "    for filename in os.listdir(dataset_dir):\n",
    "        if filename.endswith('.bmp'):\n",
    "            image_path = os.path.join(dataset_dir, filename)\n",
    "            image = cv2.imread(image_path, cv2.IMREAD_GRAYSCALE)\n",
    "            image = cv2.resize(image, (100, 100))  # Mengubah ukuran gambar menjadi 100x100 pixel\n",
    "            \n",
    "            # Normalisasi gambar\n",
    "            image = image.astype(float) / 255.0\n",
    "            \n",
    "            # Ekstraksi fitur menggunakan FLBP\n",
    "            radius = 3\n",
    "            n_points = 16 * radius\n",
    "            lbp = local_binary_pattern(image, n_points, radius, method='uniform')\n",
    "            feature = np.histogram(lbp.ravel(), bins=np.arange(0, n_points + 3), range=(0, n_points + 2))[0]\n",
    "            \n",
    "            images.append(feature)\n",
    "            \n",
    "            # Mendapatkan angka kolestrol dari nama file\n",
    "            cholesterol = filename.split('-')[1]\n",
    "            if cholesterol.isdigit():\n",
    "                labels.append(int(cholesterol))\n",
    "            else:\n",
    "                print(\"Invalid filename format:\", filename)\n",
    "\n",
    "    return np.array(images), np.array(labels)"
   ]
  },
  {
   "cell_type": "code",
   "execution_count": 221,
   "id": "d94b813d",
   "metadata": {},
   "outputs": [],
   "source": [
    "# Memanggil fungsi untuk melakukan ekstraksi fitur dari dataset menggunakan FLBP\n",
    "images, labels = extract_features(dataset_dir)"
   ]
  },
  {
   "cell_type": "code",
   "execution_count": 222,
   "id": "745ee1ef",
   "metadata": {},
   "outputs": [
    {
     "data": {
      "text/plain": [
       "array([[ 382,  144,   96, ...,   97,  399, 4412],\n",
       "       [ 382,  144,   96, ...,   97,  399, 4412],\n",
       "       [ 371,  114,   81, ...,   70,  369, 3854],\n",
       "       ...,\n",
       "       [ 312,  118,   91, ...,   85,  307, 4045],\n",
       "       [ 407,  148,  118, ...,   99,  438, 4847],\n",
       "       [ 407,  148,  118, ...,   99,  438, 4847]], dtype=int64)"
      ]
     },
     "execution_count": 222,
     "metadata": {},
     "output_type": "execute_result"
    }
   ],
   "source": [
    "images"
   ]
  },
  {
   "cell_type": "code",
   "execution_count": 223,
   "id": "d79c6004",
   "metadata": {},
   "outputs": [],
   "source": [
    "# Membagi dataset menjadi data latih dan data uji\n",
    "X_train, X_test, y_train, y_test = train_test_split(images, labels, test_size=0.2, random_state=42)\n"
   ]
  },
  {
   "cell_type": "code",
   "execution_count": 224,
   "id": "5a8f781b",
   "metadata": {},
   "outputs": [
    {
     "data": {
      "text/plain": [
       "LinearRegression()"
      ]
     },
     "execution_count": 224,
     "metadata": {},
     "output_type": "execute_result"
    }
   ],
   "source": [
    "# Membangun model regresi linear\n",
    "model = LinearRegression()\n",
    "model.fit(X_train, y_train)"
   ]
  },
  {
   "cell_type": "code",
   "execution_count": 225,
   "id": "b0ade9d4",
   "metadata": {},
   "outputs": [
    {
     "name": "stdout",
     "output_type": "stream",
     "text": [
      "Akurasi model: 0.6128112606077494\n"
     ]
    }
   ],
   "source": [
    "# Evaluasi model\n",
    "score = model.score(X_test, y_test)\n",
    "print(\"Akurasi model:\", score)"
   ]
  },
  {
   "cell_type": "code",
   "execution_count": 226,
   "id": "f4677138",
   "metadata": {},
   "outputs": [],
   "source": [
    "# Lakukan prediksi pada data uji\n",
    "y_pred = model.predict(X_test)\n",
    "\n",
    "# Ini untuk 3 Class\n",
    "threshold_low = 200\n",
    "threshold_high = 240\n",
    "\n",
    "# Mengkonversi prediksi menjadi kelas berdasarkan threshold\n",
    "y_pred_classes = np.zeros_like(y_pred)  # Inisialisasi dengan kelas rendah\n",
    "y_pred_classes[y_pred >= threshold_high] = 2  # Kelas tinggi\n",
    "y_pred_classes[(y_pred >= threshold_low) & (y_pred < threshold_high)] = 1  # Kelas beresiko\n",
    "\n",
    "y_test_classes = np.zeros_like(y_test)\n",
    "y_test_classes[y_test >= threshold_high] = 2\n",
    "y_test_classes[(y_test >= threshold_low) & (y_test < threshold_high)] = 1\n",
    "\n",
    "# Evaluasi model\n",
    "confusion_mat = confusion_matrix(y_test_classes, y_pred_classes)\n",
    "accuracy = accuracy_score(y_test_classes, y_pred_classes)\n",
    "precision = precision_score(y_test_classes, y_pred_classes, average='weighted')\n",
    "recall = recall_score(y_test_classes, y_pred_classes, average='weighted')\n",
    "f1 = f1_score(y_test_classes, y_pred_classes, average='weighted')"
   ]
  },
  {
   "cell_type": "code",
   "execution_count": 227,
   "id": "0bd8b297",
   "metadata": {},
   "outputs": [
    {
     "name": "stdout",
     "output_type": "stream",
     "text": [
      "Confusion Matrix:\n",
      "[[1 0 0]\n",
      " [3 7 0]\n",
      " [0 0 4]]\n",
      "Accuracy: 0.8\n",
      "Precision: 0.95\n",
      "Recall: 0.8\n",
      "F1-Score: 0.8423529411764705\n"
     ]
    }
   ],
   "source": [
    "print(\"Confusion Matrix:\")\n",
    "print(confusion_mat)\n",
    "print(\"Accuracy:\", accuracy)\n",
    "print(\"Precision:\", precision)\n",
    "print(\"Recall:\", recall)\n",
    "print(\"F1-Score:\", f1)"
   ]
  },
  {
   "cell_type": "markdown",
   "id": "b3bbd702",
   "metadata": {},
   "source": [
    "# Try to predict"
   ]
  },
  {
   "cell_type": "code",
   "execution_count": 228,
   "id": "640d9e2f",
   "metadata": {},
   "outputs": [
    {
     "name": "stdout",
     "output_type": "stream",
     "text": [
      "Gambar berhasil dibaca.\n"
     ]
    }
   ],
   "source": [
    "# Path gambar yang ingin diperiksa\n",
    "image_path = r\"D:\\@KULIAH SMTR 6\\BANGKIT\\CAPSTONE\\dataset\\dataset\\normal-187-25-kanan - Copy.bmp\"\n",
    "\n",
    "# Membaca gambar menggunakan cv2.imread()\n",
    "image = cv2.imread(image_path)\n",
    "\n",
    "# Memeriksa apakah gambar berhasil dibaca\n",
    "if image is not None:\n",
    "    print(\"Gambar berhasil dibaca.\")\n",
    "    cv2.imshow(\"Gambar\", image)\n",
    "    cv2.waitKey(0)\n",
    "    cv2.destroyAllWindows()\n",
    "else:\n",
    "    print(\"Gagal membaca gambar.\")"
   ]
  },
  {
   "cell_type": "code",
   "execution_count": 143,
   "id": "0ab34a31",
   "metadata": {},
   "outputs": [],
   "source": [
    "image = cv2.imread(image_path)\n",
    "image = cv2.resize(image, (200, 200))\n",
    "cv2.imshow(\"Gambar\", image)\n",
    "cv2.waitKey(0)\n",
    "cv2.destroyAllWindows()"
   ]
  },
  {
   "cell_type": "code",
   "execution_count": 25,
   "id": "9ad27ee4",
   "metadata": {},
   "outputs": [],
   "source": [
    "from skimage.feature import local_binary_pattern"
   ]
  },
  {
   "cell_type": "code",
   "execution_count": 231,
   "id": "e5c41191",
   "metadata": {},
   "outputs": [
    {
     "name": "stdout",
     "output_type": "stream",
     "text": [
      "Prediksi Kolesterol: [199.9641124]\n"
     ]
    }
   ],
   "source": [
    "# Coba Predict data\n",
    "# Memuat gambar\n",
    "image_path = r\"D:\\@KULIAH SMTR 6\\BANGKIT\\CAPSTONE\\dataset\\dataset\\beresiko-203-22-kiri - Copy.bmp\"\n",
    "image = cv2.imread(image_path)\n",
    "\n",
    "image = cv2.imread(image_path, cv2.IMREAD_GRAYSCALE)\n",
    "image = cv2.resize(image, (100, 100))  # Mengubah ukuran gambar menjadi 100x100 pixel\n",
    "            \n",
    "# Ekstraksi fitur menggunakan FLBP\n",
    "radius = 3\n",
    "n_points = 16 * radius\n",
    "lbp = local_binary_pattern(image, n_points, radius, method='uniform')\n",
    "feature = np.histogram(lbp.ravel(), bins=np.arange(0, n_points + 3), range=(0, n_points + 2))[0]\n",
    "\n",
    "# Mengubah dimensi fitur menjadi bentuk yang dapat diterima oleh model (sesuaikan dengan bentuk fitur yang digunakan saat melatih model)\n",
    "feature = np.reshape(feature, (1, -1))\n",
    "\n",
    "# Melakukan prediksi menggunakan model\n",
    "prediction = model.predict(feature)\n",
    "\n",
    "# Cetak hasil prediksi\n",
    "print(\"Prediksi Kolesterol:\", prediction)"
   ]
  },
  {
   "cell_type": "code",
   "execution_count": 58,
   "id": "0d70cf5b",
   "metadata": {},
   "outputs": [
    {
     "name": "stdout",
     "output_type": "stream",
     "text": [
      "Requirement already satisfied: joblib in c:\\users\\user\\anaconda3\\lib\\site-packages (1.1.0)\n",
      "Note: you may need to restart the kernel to use updated packages.\n"
     ]
    }
   ],
   "source": [
    "pip install joblib"
   ]
  },
  {
   "cell_type": "code",
   "execution_count": 232,
   "id": "5b898b13",
   "metadata": {},
   "outputs": [
    {
     "data": {
      "text/plain": [
       "['regression_model.h5']"
      ]
     },
     "execution_count": 232,
     "metadata": {},
     "output_type": "execute_result"
    }
   ],
   "source": [
    "# Save Model menggunakan joblib\n",
    "import joblib\n",
    "\n",
    "# Simpan model ke dalam file .h5 menggunakan joblib\n",
    "joblib.dump(model, 'regression_model.h5')"
   ]
  },
  {
   "cell_type": "code",
   "execution_count": 136,
   "id": "83a0a0da",
   "metadata": {},
   "outputs": [],
   "source": [
    "# Muat kembali model dari file .h5\n",
    "model = joblib.load('regression_model.h5')"
   ]
  },
  {
   "cell_type": "markdown",
   "id": "0de0f88f",
   "metadata": {},
   "source": [
    "# OTAK ATIK MODEL"
   ]
  },
  {
   "cell_type": "code",
   "execution_count": 3,
   "id": "40a65ad5",
   "metadata": {},
   "outputs": [],
   "source": [
    "# Membaca dataset dan melakukan ekstraksi fitur menggunakan FLBP\n",
    "def extract_features(dataset_dir):\n",
    "    images = []\n",
    "    labels = []\n",
    "\n",
    "    for filename in os.listdir(dataset_nya):\n",
    "        if filename.endswith('.bmp'):\n",
    "            image_path = os.path.join(dataset_dir, filename)\n",
    "            image = cv2.imread(image_path, cv2.IMREAD_GRAYSCALE)\n",
    "            image = cv2.resize(image, (48, 48))  # Mengubah ukuran gambar menjadi 100x100 pixel\n",
    "            \n",
    "            # Ekstraksi fitur menggunakan FLBP\n",
    "            radius = 3\n",
    "            n_points = 4 * radius\n",
    "            lbp = local_binary_pattern(image, n_points, radius, method='uniform')\n",
    "            feature = np.histogram(lbp.ravel(), bins=np.arange(0, n_points + 3), range=(0, n_points + 2))[0]\n",
    "            \n",
    "            images.append(feature)\n",
    "            \n",
    "            # Mendapatkan angka kolestrol dari nama file\n",
    "            cholesterol = filename.split('-')[1]\n",
    "            if cholesterol.isdigit():\n",
    "                labels.append(int(cholesterol))\n",
    "            else:\n",
    "                print(\"Invalid filename format:\", filename)\n",
    "\n",
    "    return np.array(images), np.array(labels)"
   ]
  },
  {
   "cell_type": "markdown",
   "id": "432b88e4",
   "metadata": {},
   "source": [
    "# Try to Augmentasi Data"
   ]
  },
  {
   "cell_type": "code",
   "execution_count": 36,
   "id": "32668486",
   "metadata": {},
   "outputs": [
    {
     "name": "stdout",
     "output_type": "stream",
     "text": [
      "Found 0 images belonging to 0 classes.\n"
     ]
    }
   ],
   "source": [
    "from tensorflow.keras.preprocessing.image import ImageDataGenerator\n",
    "\n",
    "datagen_train = ImageDataGenerator(horizontal_flip=True,\n",
    "                                   rescale=1./255,\n",
    "                                   shear_range=0.2,\n",
    "                                   zoom_range=0.2)\n",
    "dataset_nya = datagen_train.flow_from_directory('D:/@KULIAH SMTR 6/BANGKIT/CAPSTONE/dataset/dataset/',\n",
    "                                                    target_size=(100,100),\n",
    "                                                    color_mode=\"grayscale\",\n",
    "                                                    shuffle=True)"
   ]
  },
  {
   "cell_type": "markdown",
   "id": "b6268102",
   "metadata": {},
   "source": [
    "# Build ROI "
   ]
  },
  {
   "cell_type": "code",
   "execution_count": null,
   "id": "307bc74d",
   "metadata": {},
   "outputs": [],
   "source": [
    "import cv2\n",
    "\n",
    "# Fungsi untuk mendapatkan ROI (iris mata) dari gambar mata\n",
    "def get_iris_roi(image):\n",
    "    # Konversi gambar ke grayscale\n",
    "    gray = cv2.cvtColor(image, cv2.COLOR_BGR2GRAY)\n",
    "    \n",
    "    # Deteksi iris menggunakan algoritma deteksi iris yang sesuai (misalnya, Haar Cascade)\n",
    "    iris_cascade = cv2.CascadeClassifier('path_to_iris_cascade.xml')  # Ganti dengan path file cascade yang sesuai\n",
    "    iris = iris_cascade.detectMultiScale(gray, scaleFactor=1.1, minNeighbors=5, minSize=(30, 30))\n",
    "    \n",
    "    if len(iris) > 0:\n",
    "        # Ambil ROI iris pertama yang terdeteksi\n",
    "        (x, y, w, h) = iris[0]\n",
    "        roi = image[y:y+h, x:x+w]\n",
    "        return roi\n",
    "    \n",
    "    return None\n",
    "\n",
    "# Contoh penggunaan\n",
    "image_path = 'path_to_image.jpg'  # Ganti dengan path gambar mata yang ingin digunakan\n",
    "image = cv2.imread(image_path)\n",
    "\n",
    "# Mendapatkan ROI iris mata dari gambar\n",
    "iris_roi = get_iris_roi(image)\n",
    "\n",
    "if iris_roi is not None:\n",
    "    # Menampilkan ROI iris mata\n",
    "    cv2.imshow('Iris ROI', iris_roi)\n",
    "    cv2.waitKey(0)\n",
    "    cv2.destroyAllWindows()\n",
    "else:\n",
    "    print(\"Iris not found in the image.\")\n"
   ]
  }
 ],
 "metadata": {
  "kernelspec": {
   "display_name": "Python 3 (ipykernel)",
   "language": "python",
   "name": "python3"
  },
  "language_info": {
   "codemirror_mode": {
    "name": "ipython",
    "version": 3
   },
   "file_extension": ".py",
   "mimetype": "text/x-python",
   "name": "python",
   "nbconvert_exporter": "python",
   "pygments_lexer": "ipython3",
   "version": "3.9.13"
  }
 },
 "nbformat": 4,
 "nbformat_minor": 5
}
