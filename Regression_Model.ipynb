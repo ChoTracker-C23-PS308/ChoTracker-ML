{
 "cells": [
  {
   "cell_type": "code",
   "execution_count": 28,
   "id": "5c73594b",
   "metadata": {},
   "outputs": [],
   "source": [
    "import os\n",
    "import cv2\n",
    "import numpy as np\n",
    "from skimage.feature import local_binary_pattern\n",
    "from sklearn.model_selection import train_test_split\n",
    "from sklearn.linear_model import LinearRegression\n",
    "\n",
    "from sklearn.metrics import confusion_matrix, accuracy_score, precision_score, recall_score, f1_score"
   ]
  },
  {
   "cell_type": "code",
   "execution_count": 6,
   "id": "e9ca28e7",
   "metadata": {},
   "outputs": [],
   "source": [
    "# Path ke direktori dataset\n",
    "dataset_dir = 'D:/@KULIAH SMTR 6/BANGKIT/CAPSTONE/dataset/dataset/'"
   ]
  },
  {
   "cell_type": "code",
   "execution_count": 59,
   "id": "207f40c6",
   "metadata": {},
   "outputs": [],
   "source": [
    "# Membaca dataset dan melakukan ekstraksi fitur menggunakan FLBP\n",
    "def extract_features(dataset_dir):\n",
    "    images = []\n",
    "    labels = []\n",
    "\n",
    "    for filename in os.listdir(dataset_dir):\n",
    "        if filename.endswith('.bmp'):\n",
    "            image_path = os.path.join(dataset_dir, filename)\n",
    "            image = cv2.imread(image_path, cv2.IMREAD_GRAYSCALE)\n",
    "            image = cv2.resize(image, (100, 100))  # Mengubah ukuran gambar menjadi 100x100 pixel\n",
    "            \n",
    "            # Ekstraksi fitur menggunakan FLBP\n",
    "            radius = 3\n",
    "            n_points = 8 * radius\n",
    "            lbp = local_binary_pattern(image, n_points, radius, method='uniform')\n",
    "            feature = np.histogram(lbp.ravel(), bins=np.arange(0, n_points + 3), range=(0, n_points + 2))[0]\n",
    "            \n",
    "            images.append(feature)\n",
    "            \n",
    "            # Mendapatkan angka kolestrol dari nama file\n",
    "            cholesterol = filename.split('-')[1]\n",
    "            if cholesterol.isdigit():\n",
    "                labels.append(int(cholesterol))\n",
    "            else:\n",
    "                print(\"Invalid filename format:\", filename)\n",
    "\n",
    "    return np.array(images), np.array(labels)"
   ]
  },
  {
   "cell_type": "code",
   "execution_count": 20,
   "id": "d94b813d",
   "metadata": {},
   "outputs": [],
   "source": [
    "# Memanggil fungsi untuk melakukan ekstraksi fitur dari dataset menggunakan FLBP\n",
    "images, labels = extract_features(dataset_dir)"
   ]
  },
  {
   "cell_type": "code",
   "execution_count": 22,
   "id": "745ee1ef",
   "metadata": {},
   "outputs": [
    {
     "data": {
      "text/plain": [
       "array([[ 409,  271,  218,  161,  154,  114,  145,  142,  171,  266,  325,\n",
       "         443,  605,  526,  259,  190,   96,  119,   97,  102,  103,  106,\n",
       "         150,  241,  428, 4159],\n",
       "       [ 390,  213,  201,  185,  153,  161,  157,  228,  247,  262,  361,\n",
       "         514,  638,  567,  305,  241,  172,  156,  139,  133,  126,  114,\n",
       "         135,  172,  392, 3638],\n",
       "       [ 464,  300,  192,  154,  105,  112,  111,  138,  190,  184,  245,\n",
       "         338,  404,  375,  186,  144,   97,   88,   86,   84,   84,  116,\n",
       "         155,  275,  492, 4881],\n",
       "       [ 426,  259,  163,  155,  154,  156,  139,  142,  143,  185,  251,\n",
       "         379,  581,  451,  187,  171,  128,  102,  100,  100,  100,  103,\n",
       "         171,  244,  438, 4572],\n",
       "       [ 417,  278,  236,  160,  138,  129,  124,  125,  164,  167,  257,\n",
       "         435,  657,  529,  226,  177,  123,   96,   95,  115,  103,  123,\n",
       "         158,  231,  451, 4286],\n",
       "       [ 400,  297,  220,  195,  141,  144,  166,  169,  188,  192,  241,\n",
       "         277,  428,  356,  224,  202,  139,  129,  109,  112,  128,  149,\n",
       "         160,  241,  489, 4504],\n",
       "       [ 420,  240,  222,  192,  156,  117,  107,  144,  190,  243,  295,\n",
       "         431,  575,  511,  293,  207,  159,  139,  106,  130,  136,  163,\n",
       "         162,  232,  392, 4038],\n",
       "       [ 406,  262,  191,  172,  157,  133,  159,  163,  183,  241,  314,\n",
       "         435,  610,  518,  294,  206,  178,  121,  115,  111,  114,  121,\n",
       "         171,  212,  401, 4012],\n",
       "       [ 374,  212,  204,  178,  187,  162,  151,  154,  193,  275,  352,\n",
       "         517,  885,  744,  378,  239,  171,  123,   99,  121,  135,  128,\n",
       "         133,  168,  358, 3359],\n",
       "       [ 438,  278,  227,  145,  125,  148,  157,  160,  156,  215,  246,\n",
       "         393,  518,  522,  269,  223,  136,  118,  123,  110,  114,  127,\n",
       "         151,  217,  438, 4246],\n",
       "       [ 510,  263,  199,  143,  120,  136,  131,  129,  113,  135,  179,\n",
       "         321,  414,  373,  217,  155,  123,  103,   83,  112,  105,  118,\n",
       "         159,  250,  507, 4902],\n",
       "       [ 446,  265,  229,  186,  143,  153,  145,  179,  194,  215,  247,\n",
       "         317,  487,  434,  250,  157,  117,  143,   82,  101,  110,  120,\n",
       "         180,  231,  450, 4419],\n",
       "       [ 269,  224,  179,  192,  160,  171,  196,  248,  294,  357,  398,\n",
       "         504,  662,  577,  402,  341,  305,  253,  180,  186,  148,  148,\n",
       "         123,  156,  250, 3077],\n",
       "       [ 384,  234,  187,  170,  156,  132,  123,  178,  235,  243,  303,\n",
       "         509,  710,  614,  343,  247,  141,  149,  123,  100,  101,  113,\n",
       "         153,  201,  388, 3763],\n",
       "       [ 396,  261,  191,  151,  120,  137,  165,  169,  196,  211,  322,\n",
       "         466,  721,  527,  322,  211,  172,  155,  140,  155,  126,  136,\n",
       "         132,  193,  394, 3831],\n",
       "       [ 430,  263,  212,  167,  188,  124,  133,  154,  159,  212,  307,\n",
       "         440,  602,  548,  292,  229,  194,  153,  122,  143,  148,  134,\n",
       "         170,  194,  372, 3910],\n",
       "       [ 459,  242,  210,  158,  156,  146,  141,  168,  159,  206,  283,\n",
       "         404,  603,  450,  293,  227,  134,  127,  124,  138,  117,  149,\n",
       "         176,  216,  437, 4077],\n",
       "       [ 243,  199,  170,  156,  181,  148,  186,  206,  221,  314,  425,\n",
       "         778,  958,  715,  434,  243,  174,  132,  115,  132,  122,  156,\n",
       "         140,  139,  273, 3040],\n",
       "       [ 444,  221,  194,  191,  190,  188,  181,  182,  201,  262,  300,\n",
       "         381,  536,  436,  220,  217,  139,  152,  128,  132,  132,  169,\n",
       "         181,  233,  394, 3996],\n",
       "       [ 374,  264,  182,  148,  155,  136,  142,  191,  238,  298,  367,\n",
       "         535,  668,  520,  328,  238,  176,  154,  122,  140,  132,  141,\n",
       "         162,  209,  348, 3632],\n",
       "       [ 446,  236,  223,  156,  136,  131,  161,  153,  173,  273,  310,\n",
       "         455,  607,  520,  272,  198,  114,   79,   92,  103,   95,  126,\n",
       "         180,  256,  413, 4092],\n",
       "       [ 461,  229,  226,  229,  191,  158,  144,  160,  196,  222,  278,\n",
       "         394,  523,  434,  266,  211,  161,  136,  144,  124,  144,  146,\n",
       "         171,  232,  406, 4014],\n",
       "       [ 436,  220,  203,  226,  226,  153,  161,  155,  193,  206,  278,\n",
       "         414,  537,  424,  260,  216,  174,  151,  153,  155,  157,  160,\n",
       "         196,  212,  339, 3995],\n",
       "       [ 512,  292,  175,  141,  121,  111,  124,  132,  134,  185,  278,\n",
       "         390,  595,  447,  252,  216,  136,  126,   83,   88,   91,  115,\n",
       "         157,  256,  474, 4369],\n",
       "       [ 436,  291,  202,  175,  143,  129,  122,  150,  169,  210,  262,\n",
       "         415,  493,  421,  315,  206,  148,  136,  118,   97,  116,   99,\n",
       "         168,  240,  407, 4332],\n",
       "       [ 479,  328,  197,  159,  146,  122,  103,  125,  140,  185,  232,\n",
       "         355,  554,  423,  199,  169,  119,  100,  100,  107,   88,  124,\n",
       "         138,  279,  483, 4546],\n",
       "       [ 383,  292,  234,  154,  143,  152,  169,  153,  173,  215,  288,\n",
       "         425,  538,  403,  231,  189,  149,  130,  100,  124,   94,  140,\n",
       "         159,  269,  410, 4283],\n",
       "       [ 482,  314,  213,  167,  109,  134,  136,  126,  151,  189,  246,\n",
       "         417,  575,  456,  317,  216,  166,  134,  122,  119,  131,  161,\n",
       "         188,  251,  420, 4060],\n",
       "       [ 430,  306,  240,  194,  154,  132,  142,  134,  167,  178,  221,\n",
       "         367,  512,  388,  226,  196,  144,  148,  116,  125,  120,  139,\n",
       "         188,  243,  469, 4321],\n",
       "       [ 479,  288,  227,  208,  151,  108,  116,  153,  154,  161,  207,\n",
       "         381,  477,  413,  205,  165,  162,  118,  109,  114,  122,  156,\n",
       "         191,  234,  474, 4427],\n",
       "       [ 490,  325,  232,  155,  174,  169,  126,  120,  163,  188,  194,\n",
       "         278,  429,  344,  206,  173,  138,   97,  130,  126,  149,  155,\n",
       "         205,  251,  480, 4503],\n",
       "       [ 468,  304,  224,  163,  145,  124,  127,  140,  146,  181,  190,\n",
       "         327,  435,  380,  156,  146,  122,  116,   86,   98,  104,  129,\n",
       "         151,  296,  511, 4731],\n",
       "       [ 450,  261,  206,  172,  142,  136,  132,  156,  165,  220,  292,\n",
       "         394,  612,  462,  263,  168,  121,  124,  119,  111,  107,  136,\n",
       "         121,  274,  432, 4224],\n",
       "       [ 310,  243,  192,  132,  108,  108,  122,  145,  190,  293,  438,\n",
       "         619,  813,  640,  410,  317,  185,  158,  119,  113,   95,   87,\n",
       "         124,  184,  298, 3557],\n",
       "       [ 331,  238,  181,  150,  132,  119,  128,  152,  221,  263,  352,\n",
       "         522,  762,  576,  382,  295,  170,  151,  122,  102,  100,  103,\n",
       "         106,  208,  336, 3798],\n",
       "       [ 424,  306,  201,  149,  123,  114,  123,  133,  169,  196,  223,\n",
       "         381,  560,  447,  239,  154,  139,   90,   88,   89,   85,  114,\n",
       "         149,  259,  471, 4574]], dtype=int64)"
      ]
     },
     "execution_count": 22,
     "metadata": {},
     "output_type": "execute_result"
    }
   ],
   "source": [
    "images"
   ]
  },
  {
   "cell_type": "code",
   "execution_count": 23,
   "id": "d79c6004",
   "metadata": {},
   "outputs": [],
   "source": [
    "# Membagi dataset menjadi data latih dan data uji\n",
    "X_train, X_test, y_train, y_test = train_test_split(images, labels, test_size=0.2, random_state=42)\n"
   ]
  },
  {
   "cell_type": "code",
   "execution_count": 24,
   "id": "5a8f781b",
   "metadata": {},
   "outputs": [
    {
     "data": {
      "text/plain": [
       "LinearRegression()"
      ]
     },
     "execution_count": 24,
     "metadata": {},
     "output_type": "execute_result"
    }
   ],
   "source": [
    "# Membangun model regresi linear\n",
    "model = LinearRegression()\n",
    "model.fit(X_train, y_train)"
   ]
  },
  {
   "cell_type": "code",
   "execution_count": 34,
   "id": "3e510726",
   "metadata": {},
   "outputs": [],
   "source": [
    "# Lakukan prediksi pada data uji\n",
    "y_pred = model.predict(X_test)\n",
    "\n",
    "\n",
    "\n",
    "# Konversi prediksi menjadi kelas menggunakan threshold tertentu (jika diperlukan)\n",
    "# Misalnya, jika tingkat kolestrol >= 200 dianggap tinggi, maka:\n",
    "threshold = 200\n",
    "y_pred_classes = (y_pred >= threshold).astype(int)\n",
    "y_test_classes = (y_test >= threshold).astype(int)\n",
    "\n",
    "# Evaluasi model\n",
    "confusion_mat = confusion_matrix(y_test_classes, y_pred_classes)\n",
    "accuracy = accuracy_score(y_test_classes, y_pred_classes)\n",
    "precision = precision_score(y_test_classes, y_pred_classes)\n",
    "recall = recall_score(y_test_classes, y_pred_classes)\n",
    "f1 = f1_score(y_test_classes, y_pred_classes)\n"
   ]
  },
  {
   "cell_type": "code",
   "execution_count": 60,
   "id": "a8051e6b",
   "metadata": {},
   "outputs": [
    {
     "name": "stdout",
     "output_type": "stream",
     "text": [
      "Confusion Matrix:\n",
      "[[2 1]\n",
      " [3 2]]\n",
      "Accuracy: 0.5\n",
      "Precision: 0.6666666666666666\n",
      "Recall: 0.4\n",
      "F1-Score: 0.5\n"
     ]
    }
   ],
   "source": [
    "print(\"Confusion Matrix:\")\n",
    "print(confusion_mat)\n",
    "print(\"Accuracy:\", accuracy)\n",
    "print(\"Precision:\", precision)\n",
    "print(\"Recall:\", recall)\n",
    "print(\"F1-Score:\", f1)\n"
   ]
  },
  {
   "cell_type": "code",
   "execution_count": 31,
   "id": "b0ade9d4",
   "metadata": {},
   "outputs": [],
   "source": [
    "# Evaluasi model\n",
    "score = model.score(X_test, y_test)\n",
    "print(\"Akurasi model:\", score)"
   ]
  },
  {
   "cell_type": "markdown",
   "id": "b3bbd702",
   "metadata": {},
   "source": [
    "# Try to predict"
   ]
  },
  {
   "cell_type": "code",
   "execution_count": 49,
   "id": "640d9e2f",
   "metadata": {},
   "outputs": [
    {
     "name": "stdout",
     "output_type": "stream",
     "text": [
      "Gambar berhasil dibaca.\n"
     ]
    }
   ],
   "source": [
    "# Path gambar yang ingin diperiksa\n",
    "image_path = r'D:\\@KULIAH SMTR 6\\BANGKIT\\CAPSTONE\\dataset\\dataset\\normal-180-20-kanan.bmp'\n",
    "\n",
    "# Membaca gambar menggunakan cv2.imread()\n",
    "image = cv2.imread(image_path)\n",
    "\n",
    "# Memeriksa apakah gambar berhasil dibaca\n",
    "if image is not None:\n",
    "    print(\"Gambar berhasil dibaca.\")\n",
    "    cv2.imshow(\"Gambar\", image)\n",
    "    cv2.waitKey(0)\n",
    "    cv2.destroyAllWindows()\n",
    "else:\n",
    "    print(\"Gagal membaca gambar.\")"
   ]
  },
  {
   "cell_type": "code",
   "execution_count": 40,
   "id": "9ad27ee4",
   "metadata": {},
   "outputs": [],
   "source": [
    "from skimage.feature import local_binary_pattern"
   ]
  },
  {
   "cell_type": "code",
   "execution_count": 51,
   "id": "e5c41191",
   "metadata": {},
   "outputs": [
    {
     "name": "stdout",
     "output_type": "stream",
     "text": [
      "Prediksi Kolesterol: [15.69335938]\n"
     ]
    }
   ],
   "source": [
    "# Coba Predict data\n",
    "# Memuat gambar\n",
    "image_path = r'D:\\@KULIAH SMTR 6\\BANGKIT\\CAPSTONE\\dataset\\dataset\\normal-180-20-kanan.bmp'\n",
    "image = cv2.imread(image_path)\n",
    "\n",
    "image = cv2.imread(image_path, cv2.IMREAD_GRAYSCALE)\n",
    "image = cv2.resize(image, (100, 100))  # Mengubah ukuran gambar menjadi 100x100 pixel\n",
    "            \n",
    "# Ekstraksi fitur menggunakan FLBP\n",
    "radius = 3\n",
    "n_points = 8 * radius\n",
    "lbp = local_binary_pattern(image, n_points, radius, method='uniform')\n",
    "feature = np.histogram(lbp.ravel(), bins=np.arange(0, n_points + 3), range=(0, n_points + 2))[0]\n",
    "\n",
    "# Mengubah dimensi fitur menjadi bentuk yang dapat diterima oleh model (sesuaikan dengan bentuk fitur yang digunakan saat melatih model)\n",
    "feature = np.reshape(feature, (1, -1))\n",
    "\n",
    "# Melakukan prediksi menggunakan model\n",
    "prediction = model.predict(feature)\n",
    "\n",
    "# Cetak hasil prediksi\n",
    "print(\"Prediksi Kolesterol:\", prediction)"
   ]
  },
  {
   "cell_type": "code",
   "execution_count": 58,
   "id": "0d70cf5b",
   "metadata": {},
   "outputs": [
    {
     "name": "stdout",
     "output_type": "stream",
     "text": [
      "Requirement already satisfied: joblib in c:\\users\\user\\anaconda3\\lib\\site-packages (1.1.0)\n",
      "Note: you may need to restart the kernel to use updated packages.\n"
     ]
    }
   ],
   "source": [
    "pip install joblib"
   ]
  },
  {
   "cell_type": "code",
   "execution_count": 62,
   "id": "5b898b13",
   "metadata": {},
   "outputs": [
    {
     "data": {
      "text/plain": [
       "['regression_model.h5']"
      ]
     },
     "execution_count": 62,
     "metadata": {},
     "output_type": "execute_result"
    }
   ],
   "source": [
    "# Save Model menggunakan joblib\n",
    "import joblib\n",
    "\n",
    "# Simpan model ke dalam file .h5 menggunakan joblib\n",
    "joblib.dump(model, 'regression_model.h5')"
   ]
  },
  {
   "cell_type": "code",
   "execution_count": 64,
   "id": "83a0a0da",
   "metadata": {},
   "outputs": [],
   "source": [
    "# Muat kembali model dari file .h5\n",
    "model = joblib.load('regression_model.h5')"
   ]
  },
  {
   "cell_type": "code",
   "execution_count": 3,
   "id": "40a65ad5",
   "metadata": {},
   "outputs": [],
   "source": [
    "def extract_features(image):\n",
    "    # Implementasikan ekstraksi fitur sesuai kebutuhan Anda\n",
    "    # Misalnya, menggunakan FLBP seperti yang telah dibahas sebelumnya\n",
    "    # atau metode ekstraksi fitur lainnya seperti HOG, SIFT, dll.\n",
    "    # Di sini, kita menggunakan FLBP sebagai contoh\n",
    "    gray_image = cv2.cvtColor(image, cv2.COLOR_BGR2GRAY)\n",
    "    # Lakukan ekstraksi fitur FLBP\n",
    "    flbp_features = fuzzy_local_binary_pattern(gray_image)\n",
    "\n",
    "    return flbp_features"
   ]
  },
  {
   "cell_type": "code",
   "execution_count": null,
   "id": "3482333d",
   "metadata": {},
   "outputs": [],
   "source": []
  },
  {
   "cell_type": "code",
   "execution_count": null,
   "id": "32668486",
   "metadata": {},
   "outputs": [],
   "source": [
    "import cv2\n",
    "import numpy as np\n",
    "import pandas as pd\n",
    "\n",
    "def extract_features(image):\n",
    "    # Implementasikan ekstraksi fitur sesuai kebutuhan Anda\n",
    "    # Misalnya, menggunakan FLBP seperti yang telah dibahas sebelumnya\n",
    "    # atau metode ekstraksi fitur lainnya seperti HOG, SIFT, dll.\n",
    "    # Di sini, kita menggunakan FLBP sebagai contoh\n",
    "    gray_image = cv2.cvtColor(image, cv2.COLOR_BGR2GRAY)\n",
    "    # Lakukan ekstraksi fitur FLBP\n",
    "    flbp_features = fuzzy_local_binary_pattern(gray_image)\n",
    "\n",
    "    return flbp_features\n",
    "\n",
    "# Path ke dataset gambar mata dan kolestrolnya (CSV)\n",
    "dataset_path = 'dataset.csv'\n",
    "\n",
    "# Membaca dataset menggunakan pandas\n",
    "dataset = pd.read_csv(dataset_path)\n",
    "\n",
    "# Inisialisasi array untuk menyimpan fitur dan label\n",
    "features = []\n",
    "labels = []\n",
    "\n",
    "# Loop melalui setiap data gambar mata dalam dataset\n",
    "for index, row in dataset.iterrows():\n",
    "    image_path = row['image_path']\n",
    "    cholesterol = row['cholesterol']\n",
    "\n",
    "    # Baca gambar mata dari path\n",
    "    image = cv2.imread(image_path)\n",
    "\n",
    "    # Ekstraksi fitur dari gambar mata\n",
    "    image_features = extract_features(image)\n",
    "\n",
    "    # Menambahkan fitur dan label ke dalam array\n",
    "    features.append(image_features)\n",
    "    labels.append(cholesterol)\n",
    "\n",
    "# Mengubah array fitur dan label menjadi bentuk yang dapat digunakan untuk pelatihan model\n",
    "features = np.array(features)\n",
    "labels = np.array(labels)\n"
   ]
  }
 ],
 "metadata": {
  "kernelspec": {
   "display_name": "Python 3 (ipykernel)",
   "language": "python",
   "name": "python3"
  },
  "language_info": {
   "codemirror_mode": {
    "name": "ipython",
    "version": 3
   },
   "file_extension": ".py",
   "mimetype": "text/x-python",
   "name": "python",
   "nbconvert_exporter": "python",
   "pygments_lexer": "ipython3",
   "version": "3.9.13"
  }
 },
 "nbformat": 4,
 "nbformat_minor": 5
}
