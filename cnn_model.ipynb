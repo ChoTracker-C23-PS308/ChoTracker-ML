{
  "nbformat": 4,
  "nbformat_minor": 0,
  "metadata": {
    "colab": {
      "provenance": []
    },
    "kernelspec": {
      "name": "python3",
      "display_name": "Python 3"
    },
    "language_info": {
      "name": "python"
    }
  },
  "cells": [
    {
      "cell_type": "markdown",
      "source": [
        "masii jelek bgt belum diotak atik lagi"
      ],
      "metadata": {
        "id": "yZpC8In9EkEu"
      }
    },
    {
      "cell_type": "code",
      "execution_count": 22,
      "metadata": {
        "id": "ku_qneiX_Zq2"
      },
      "outputs": [],
      "source": [
        "import os\n",
        "import numpy as np\n",
        "import tensorflow as tf\n",
        "from tensorflow.keras.preprocessing.image import load_img, img_to_array\n",
        "from tensorflow.keras.models import Sequential\n",
        "from tensorflow.keras.layers import Conv2D, MaxPooling2D, Flatten, Dense"
      ]
    },
    {
      "cell_type": "code",
      "source": [
        "from google.colab import drive\n",
        "drive.mount('/content/drive')"
      ],
      "metadata": {
        "colab": {
          "base_uri": "https://localhost:8080/"
        },
        "id": "1l07aa30AVCX",
        "outputId": "803b0c41-0cfd-4e80-fb10-170a8d753938"
      },
      "execution_count": 2,
      "outputs": [
        {
          "output_type": "stream",
          "name": "stdout",
          "text": [
            "Mounted at /content/drive\n"
          ]
        }
      ]
    },
    {
      "cell_type": "code",
      "source": [
        "# Path ke direktori dataset\n",
        "dataset_dir = '/content/drive/My Drive/capstone/cobalagi/'"
      ],
      "metadata": {
        "id": "sD_MlPpXAg8q"
      },
      "execution_count": 3,
      "outputs": []
    },
    {
      "cell_type": "code",
      "source": [
        "# Membaca dan memproses dataset\n",
        "def load_dataset(dataset_dir):\n",
        "    images = []\n",
        "    labels = []\n",
        "    \n",
        "    # Melakukan iterasi pada semua file dalam direktori dataset\n",
        "    for filename in os.listdir(dataset_dir):\n",
        "        if filename.endswith('.bmp'):\n",
        "            # Mengambil nilai kadar kolesterol dari nama file\n",
        "            kolesterol = int(filename.split('-')[1])\n",
        "            \n",
        "            # Menggunakan path lengkap ke file gambar\n",
        "            img_path = os.path.join(dataset_dir, filename)\n",
        "            \n",
        "            # Memuat gambar dan mengubahnya menjadi array numpy\n",
        "            image = load_img(img_path, target_size=(256, 256))\n",
        "            image = img_to_array(image)\n",
        "            \n",
        "            # Menyimpan gambar dan label ke dalam list\n",
        "            images.append(image)\n",
        "            labels.append(kolesterol)\n",
        "    \n",
        "    # Mengubah list menjadi array numpy\n",
        "    images = np.array(images, dtype='float32')\n",
        "    labels = np.array(labels, dtype='float32')\n",
        "    \n",
        "    return images, labels"
      ],
      "metadata": {
        "id": "D-gyIjJaAbFL"
      },
      "execution_count": 4,
      "outputs": []
    },
    {
      "cell_type": "code",
      "source": [
        "# Memuat dataset\n",
        "images, labels = load_dataset(dataset_dir)"
      ],
      "metadata": {
        "id": "QTiImOCMAsPd"
      },
      "execution_count": 5,
      "outputs": []
    },
    {
      "cell_type": "code",
      "source": [
        "# Memisahkan data menjadi data train dan data test\n",
        "split_ratio = 0.8\n",
        "split_index = int(split_ratio * len(images))\n",
        "\n",
        "train_images = images[:split_index]\n",
        "train_labels = labels[:split_index]\n",
        "test_images = images[split_index:]\n",
        "test_labels = labels[split_index:]"
      ],
      "metadata": {
        "id": "xWoLqSebA0_o"
      },
      "execution_count": 23,
      "outputs": []
    },
    {
      "cell_type": "code",
      "source": [
        "# Membangun model CNN \n",
        "model = Sequential()\n",
        "model.add(Conv2D(32, (3, 3), activation='relu', input_shape=(256, 256, 3)))\n",
        "model.add(MaxPooling2D((2, 2)))\n",
        "model.add(Conv2D(64, (3, 3), activation='relu'))\n",
        "model.add(MaxPooling2D((2, 2)))\n",
        "model.add(Conv2D(64, (3, 3), activation='relu'))\n",
        "model.add(Flatten())\n",
        "model.add(Dense(64, activation='relu'))\n",
        "model.add(Dense(1))"
      ],
      "metadata": {
        "id": "EoW5QfbMA5Os"
      },
      "execution_count": 24,
      "outputs": []
    },
    {
      "cell_type": "code",
      "source": [
        "# Mengompilasi model\n",
        "model.compile(optimizer='adam', loss='mean_squared_error')"
      ],
      "metadata": {
        "id": "f8sbJ0RJA7i5"
      },
      "execution_count": 25,
      "outputs": []
    },
    {
      "cell_type": "code",
      "source": [
        "# Melatih model\n",
        "model.fit(train_images, train_labels, epochs=10, batch_size=32)"
      ],
      "metadata": {
        "colab": {
          "base_uri": "https://localhost:8080/"
        },
        "id": "t7DZeDgIA9wI",
        "outputId": "115c1e05-12f8-4867-81c6-c1a0ec253db7"
      },
      "execution_count": 26,
      "outputs": [
        {
          "output_type": "stream",
          "name": "stdout",
          "text": [
            "Epoch 1/10\n",
            "2/2 [==============================] - 10s 4s/step - loss: 11519006.0000\n",
            "Epoch 2/10\n",
            "2/2 [==============================] - 15s 6s/step - loss: 159191.4375\n",
            "Epoch 3/10\n",
            "2/2 [==============================] - 8s 3s/step - loss: 63011.3711\n",
            "Epoch 4/10\n",
            "2/2 [==============================] - 9s 5s/step - loss: 42414.3086\n",
            "Epoch 5/10\n",
            "2/2 [==============================] - 7s 3s/step - loss: 27081.8672\n",
            "Epoch 6/10\n",
            "2/2 [==============================] - 9s 3s/step - loss: 7265.2412\n",
            "Epoch 7/10\n",
            "2/2 [==============================] - 7s 3s/step - loss: 3577.2434\n",
            "Epoch 8/10\n",
            "2/2 [==============================] - 9s 3s/step - loss: 3288.5791\n",
            "Epoch 9/10\n",
            "2/2 [==============================] - 8s 4s/step - loss: 2658.7446\n",
            "Epoch 10/10\n",
            "2/2 [==============================] - 8s 3s/step - loss: 2147.0095\n"
          ]
        },
        {
          "output_type": "execute_result",
          "data": {
            "text/plain": [
              "<keras.callbacks.History at 0x7f7c96d21a80>"
            ]
          },
          "metadata": {},
          "execution_count": 26
        }
      ]
    },
    {
      "cell_type": "code",
      "source": [
        "# Evaluasi model pada data uji\n",
        "loss = model.evaluate(test_images, test_labels)\n",
        "print('Test Loss:', loss)\n",
        "\n",
        "#HAHAHHA ABAIKAN DULU GEDE BGT"
      ],
      "metadata": {
        "colab": {
          "base_uri": "https://localhost:8080/"
        },
        "id": "Xy-0kvZ9BU3-",
        "outputId": "35aa6185-c7c5-4595-d1c7-9bac2469584a"
      },
      "execution_count": 10,
      "outputs": [
        {
          "output_type": "stream",
          "name": "stdout",
          "text": [
            "1/1 [==============================] - 1s 657ms/step - loss: 7180.6865\n",
            "Test Loss: 7180.6865234375\n"
          ]
        }
      ]
    },
    {
      "cell_type": "code",
      "source": [
        "# Menggunakan model untuk memprediksi kadar kolesterol gambar baru\n",
        "new_image_path = '/content/drive/My Drive/capstone/cobalagi/kolesterol-247-14-kiri.bmp'\n",
        "new_image = load_img(new_image_path, target_size=(256, 256))\n",
        "new_image = img_to_array(new_image)\n",
        "new_image = np.expand_dims(new_image, axis=0)\n"
      ],
      "metadata": {
        "id": "slRioB-PBWzN"
      },
      "execution_count": 12,
      "outputs": []
    },
    {
      "cell_type": "code",
      "source": [
        "prediction = model.predict(new_image)\n",
        "print('Prediksi Kadar Kolesterol:', prediction[0])"
      ],
      "metadata": {
        "colab": {
          "base_uri": "https://localhost:8080/"
        },
        "id": "82kw_DIDBg6e",
        "outputId": "f3888cc7-a915-42d3-c677-c49e0876fed2"
      },
      "execution_count": 13,
      "outputs": [
        {
          "output_type": "stream",
          "name": "stdout",
          "text": [
            "1/1 [==============================] - 0s 238ms/step\n",
            "Prediksi Kadar Kolesterol: [173.35371]\n"
          ]
        }
      ]
    }
  ]
}