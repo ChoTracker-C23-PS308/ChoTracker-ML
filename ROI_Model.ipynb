{
 "cells": [
  {
   "cell_type": "code",
   "execution_count": 4,
   "id": "ed6d6262",
   "metadata": {},
   "outputs": [],
   "source": [
    "import cv2\n",
    "import numpy as np"
   ]
  },
  {
   "cell_type": "code",
   "execution_count": 51,
   "id": "63285a35",
   "metadata": {},
   "outputs": [],
   "source": [
    "def extract_iris(image_path):\n",
    "    # Membaca gambar\n",
    "    image = cv2.imread(image_path)\n",
    "    \n",
    "    # Mengkonversi gambar menjadi grayscale\n",
    "    gray = cv2.cvtColor(image, cv2.COLOR_BGR2GRAY)\n",
    "    \n",
    "    # Mendeteksi tepi pada gambar menggunakan Canny edge detection\n",
    "    edges = cv2.Canny(gray, 70, 80)\n",
    "    \n",
    "    # Menghitung radius minimal dan maksimal berdasarkan ukuran gambar\n",
    "    height, width = gray.shape\n",
    "    min_radius = int(min(height, width) * 0.2)  # 10% dari ukuran gambar\n",
    "    max_radius = int(min(height, width) * 0.5)  # 40% dari ukuran gambar\n",
    "    \n",
    "    # Menggunakan transformasi Hough Circle untuk mendeteksi lingkaran iris\n",
    "    circles = cv2.HoughCircles(edges, cv2.HOUGH_GRADIENT, 1, minDist=100, param1=100, param2=30, minRadius=min_radius, maxRadius=max_radius)\n",
    "    \n",
    "    if circles is not None:\n",
    "        # Mengambil koordinat lingkaran iris yang terdeteksi\n",
    "        circles = np.round(circles[0, :]).astype(\"int\")\n",
    "        \n",
    "        for (x, y, r) in circles:\n",
    "            # Menggambar lingkaran pada gambar asli\n",
    "            cv2.circle(image, (x, y), r, (0, 255, 0), 4)\n",
    "        \n",
    "        # Mengambil bagian iris menggunakan koordinat lingkaran iris\n",
    "        iris = image[y-r:y+r, x-r:x+r]\n",
    "        \n",
    "        # Memastikan gambar iris yang terdeteksi tidak kosong\n",
    "        if not iris.size == 0:\n",
    "            # Menyimpan gambar iris\n",
    "            cv2.imwrite(\"iris.jpg\", iris)\n",
    "            \n",
    "            # Menampilkan gambar iris\n",
    "            cv2.imshow(\"Iris\", iris)\n",
    "            cv2.waitKey(0)\n",
    "            cv2.destroyAllWindows()\n",
    "        else:\n",
    "            print(\"Gagal mengambil iris pada gambar.\")\n",
    "    else:\n",
    "        print(\"Tidak dapat mendeteksi lingkaran iris pada gambar.\")\n",
    "\n"
   ]
  },
  {
   "cell_type": "code",
   "execution_count": 52,
   "id": "4df3ee79",
   "metadata": {},
   "outputs": [
    {
     "name": "stdout",
     "output_type": "stream",
     "text": [
      "Tidak dapat mendeteksi lingkaran iris pada gambar.\n"
     ]
    }
   ],
   "source": [
    "# Menggunakan fungsi extract_iris untuk mengambil iris dari gambar mata\n",
    "extract_iris(r\"D:\\@KULIAH SMTR 6\\BANGKIT\\CAPSTONE\\dataset\\dataset_complete\\gabungan\\231-4-kiri.bmp\")"
   ]
  },
  {
   "cell_type": "markdown",
   "id": "66cedad0",
   "metadata": {},
   "source": [
    "# Try Bigger Dataset Pixel"
   ]
  },
  {
   "cell_type": "code",
   "execution_count": 53,
   "id": "d41fec6f",
   "metadata": {},
   "outputs": [],
   "source": [
    "def extract_iris(image_path):\n",
    "    # Membaca gambar\n",
    "    image = cv2.imread(image_path)\n",
    "    \n",
    "    # Mengkonversi gambar menjadi grayscale\n",
    "    gray = cv2.cvtColor(image, cv2.COLOR_BGR2GRAY)\n",
    "    \n",
    "    # Mendeteksi tepi pada gambar menggunakan Canny edge detection\n",
    "    edges = cv2.Canny(gray, 80, 200)\n",
    "    \n",
    "    # Menghitung radius minimal dan maksimal berdasarkan ukuran gambar\n",
    "    height, width = gray.shape\n",
    "    min_radius = int(min(height, width) * 0.1)  # 10% dari ukuran gambar\n",
    "    max_radius = int(min(height, width) * 0.4)  # 40% dari ukuran gambar\n",
    "    \n",
    "    # Menggunakan transformasi Hough Circle untuk mendeteksi lingkaran iris\n",
    "    circles = cv2.HoughCircles(edges, cv2.HOUGH_GRADIENT, 1, minDist=100, param1=100, param2=30, minRadius=min_radius, maxRadius=max_radius)\n",
    "    \n",
    "    if circles is not None:\n",
    "        # Mengambil koordinat lingkaran iris yang terdeteksi\n",
    "        circles = np.round(circles[0, :]).astype(\"int\")\n",
    "        \n",
    "        for (x, y, r) in circles:\n",
    "            # Menggambar lingkaran pada gambar asli\n",
    "            cv2.circle(image, (x, y), r, (0, 255, 0), 4)\n",
    "        \n",
    "        # Mengambil bagian iris menggunakan koordinat lingkaran iris\n",
    "        iris = image[y-r:y+r, x-r:x+r]\n",
    "        \n",
    "        # Memastikan gambar iris yang terdeteksi tidak kosong\n",
    "        if not iris.size == 0:\n",
    "            # Menyimpan gambar iris\n",
    "            cv2.imwrite(\"iris.jpg\", iris)\n",
    "            \n",
    "            # Menampilkan gambar iris\n",
    "            cv2.imshow(\"Iris\", iris)\n",
    "            cv2.waitKey(0)\n",
    "            cv2.destroyAllWindows()\n",
    "        else:\n",
    "            print(\"Gagal mengambil iris pada gambar.\")\n",
    "    else:\n",
    "        print(\"Tidak dapat mendeteksi lingkaran iris pada gambar.\")\n"
   ]
  },
  {
   "cell_type": "code",
   "execution_count": null,
   "id": "838e85a4",
   "metadata": {},
   "outputs": [],
   "source": [
    "# Menggunakan fungsi extract_iris untuk mengambil iris dari gambar mata\n",
    "extract_iris(r\"D:\\@KULIAH SMTR 6\\BANGKIT\\CAPSTONE\\dataset\\dataset_complete\\gabungan\\231-4-kiri.bmp\")\n"
   ]
  }
 ],
 "metadata": {
  "kernelspec": {
   "display_name": "Python 3 (ipykernel)",
   "language": "python",
   "name": "python3"
  },
  "language_info": {
   "codemirror_mode": {
    "name": "ipython",
    "version": 3
   },
   "file_extension": ".py",
   "mimetype": "text/x-python",
   "name": "python",
   "nbconvert_exporter": "python",
   "pygments_lexer": "ipython3",
   "version": "3.9.13"
  }
 },
 "nbformat": 4,
 "nbformat_minor": 5
}
