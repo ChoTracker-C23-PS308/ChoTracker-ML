{
 "cells": [
  {
   "cell_type": "code",
   "execution_count": 3,
   "id": "ba5b5a67",
   "metadata": {},
   "outputs": [],
   "source": [
    "import nltk\n",
    "from nltk.stem import WordNetLemmatizer\n",
    "lemmatizer = WordNetLemmatizer()\n",
    "import json\n",
    "import pickle\n",
    "import numpy as np\n",
    "from keras.models import Sequential\n",
    "from keras.layers import Dense, Activation, Dropout\n",
    "from keras.optimizers import SGD\n",
    "from tensorflow.keras.optimizers import SGD\n",
    "import random"
   ]
  },
  {
   "cell_type": "code",
   "execution_count": 12,
   "id": "26cd4c1a",
   "metadata": {},
   "outputs": [],
   "source": [
    "import nltk"
   ]
  },
  {
   "cell_type": "code",
   "execution_count": 6,
   "id": "1fcdf393",
   "metadata": {},
   "outputs": [
    {
     "name": "stderr",
     "output_type": "stream",
     "text": [
      "[nltk_data] Downloading package punkt to\n",
      "[nltk_data]     C:\\Users\\user\\AppData\\Roaming\\nltk_data...\n",
      "[nltk_data]   Unzipping tokenizers\\punkt.zip.\n"
     ]
    },
    {
     "data": {
      "text/plain": [
       "True"
      ]
     },
     "execution_count": 6,
     "metadata": {},
     "output_type": "execute_result"
    }
   ],
   "source": [
    "nltk.download('punkt')"
   ]
  },
  {
   "cell_type": "code",
   "execution_count": 10,
   "id": "df66a138",
   "metadata": {},
   "outputs": [
    {
     "name": "stderr",
     "output_type": "stream",
     "text": [
      "[nltk_data] Downloading package wordnet to\n",
      "[nltk_data]     C:\\Users\\user\\AppData\\Roaming\\nltk_data...\n"
     ]
    },
    {
     "data": {
      "text/plain": [
       "True"
      ]
     },
     "execution_count": 10,
     "metadata": {},
     "output_type": "execute_result"
    }
   ],
   "source": [
    "nltk.download('wordnet')"
   ]
  },
  {
   "cell_type": "code",
   "execution_count": 16,
   "id": "7628764b",
   "metadata": {},
   "outputs": [
    {
     "name": "stderr",
     "output_type": "stream",
     "text": [
      "[nltk_data] Downloading package omw-1.4 to\n",
      "[nltk_data]     C:\\Users\\user\\AppData\\Roaming\\nltk_data...\n"
     ]
    },
    {
     "data": {
      "text/plain": [
       "True"
      ]
     },
     "execution_count": 16,
     "metadata": {},
     "output_type": "execute_result"
    }
   ],
   "source": [
    "nltk.download('omw-1.4')"
   ]
  },
  {
   "cell_type": "code",
   "execution_count": 4,
   "id": "de86d6ab",
   "metadata": {},
   "outputs": [],
   "source": [
    "words=[]\n",
    "classes = []\n",
    "documents = []\n",
    "ignore_words = ['?', '!']"
   ]
  },
  {
   "cell_type": "code",
   "execution_count": 7,
   "id": "147c9976",
   "metadata": {},
   "outputs": [],
   "source": [
    "data_file = open('intents.json').read()\n",
    "intents = json.loads(data_file)"
   ]
  },
  {
   "cell_type": "code",
   "execution_count": 8,
   "id": "01d104a1",
   "metadata": {},
   "outputs": [
    {
     "name": "stdout",
     "output_type": "stream",
     "text": [
      "376 documents\n",
      "41 classes ['adverse_drug', 'agen_right', 'agent_acquaintance', 'agent_age', 'agent_annoying', 'agent_bad', 'agent_beautiful', 'agent_beclever', 'agent_birthday', 'agent_boring', 'agent_boss', 'agent_busy', 'agent_canyouhelp', 'agent_chatbot', 'agent_clever', 'agent_crazy', 'agent_fire', 'agent_funny', 'agent_good', 'agent_happy', 'agent_hobby', 'agent_hungry', 'agent_marryuser', 'agent_myfriend', 'agent_occupation', 'agent_origin', 'agent_ready', 'agent_real', 'agent_religion', 'agent_residence', 'agent_sure', 'agent_talktome', 'agent_there', 'blood_pressure', 'blood_pressure_search', 'goodbye', 'greeting', 'hospital_search', 'options', 'pharmacy_search', 'thanks']\n",
      "264 unique lemmatized words [\"'s\", ',', '[', ']', 'a', 'adalah', 'adverse', 'agama', 'akan', 'aku', 'all', 'anda', 'aneh', 'anyone', 'apa', 'apakah', 'are', 'asal|negara', 'awesome', 'bagaimana', 'bahagia', 'baik', 'bantu', 'bantuanmu', 'banyak', 'be', 'behavior', 'bekerja', 'bekerja|sibuk|bekerja', 'belajar', 'benar', 'benar-benar', 'berapa', 'berasal|dilahirkan', 'berguna|sia-sia|yang', 'beri', 'berkualitas', 'bersenang-senang', 'berteman', 'betapa', 'biasa', 'biasa|baik', 'biasa|baik|menyapa|luar', 'bicara', 'bisa', 'bisakah', 'blood', 'bosan', 'bosmu', 'bosmu|pemilikmu|bosnya|majikanmu', 'bot|seorang', 'buruk|jelek|tidak', 'butuh', 'by', 'bye', 'can', 'cantik', 'cantik|baik', 'causing', 'cerdas', 'ceritakan', 'chatbot|program', 'chatting', 'check', 'cookie', 'could', 'dari', 'data', 'day', 'dengan', 'denganku', 'denganmu', 'detail', 'di', 'dimana', 'dipecat', 'diri', 'dirimu', 'do', 'dont', 'drug', 'entry', 'find', 'for', 'gambarkan', 'gila', 'give', 'good', 'goodbye', 'hanyalah', 'hari', 'hari-hariku', 'harus', 'have', 'hello', 'help', 'helpful', 'helping', 'hey', 'hi', 'history', 'hobi', 'hobimu', 'hola', 'hospital', 'how', 'i', 'id', 'ingin', 'ini', 'ini|', 'ini|masih', 'ini|pagi', 'ini|sekarang', 'ini|senang', 'is', 'itu', 'jadilah', 'kamu', 'kamu|itu', 'kantor', 'kantormu', 'kapan', 'katakan', 'kau', 'kebahagiaan', 'kepribadian', 'kesal', 'kita', 'kotamu', 'lagi', 'lahir|berulang', 'lakukan', 'lapar', 'later', 'lebih', 'list', 'load', 'locate', 'log', 'lokasi', 'looking', 'lookup', 'luar', 'lucu', 'makan', 'mana', 'management', 'mari', 'masih', 'masuk', 'maukah', 'me', 'melakukan', 'membantuku', 'membencimu', 'membosankan', 'membosankannya', 'membuat', 'membuatku', 'memecatmu', 'memiliki', 'mencintaimu', 'mengapa', 'mengatakan', 'mengerjakannya', 'mengganggu', 'mengobrol', 'menikah', 'menikahlah', 'menjadi', 'menjengkelkan', 'menurutku', 'menurutmu', 'menyebalkan|menggangguku', 'menyenangkan', 'module', 'mu', 'nearby', 'next', 'nice', 'nyata', 'of', 'offered', 'open', 'orang', 'orang|tampak', 'paling', 'palsu', 'patient', 'pengetahuan', 'penuh', 'pharmacy', 'pikir', 'pintar', 'platformmu', 'pressure', 'provide', 'punya', 'reaction', 'related', 'result', 'robot', 'robot|chatbot', 'rumahmu|kediamanmu', 'sama', 'sana|sini', 'sangat', 'sangat|itu', 'satu-satunya', 'saya', 'search', 'searching', 'sebenarnya', 'seberapa', 'see', 'sekarang', 'sepertimu', 'sesuatu', 'show', 'siap', 'siapa', 'sibuk', 'sibuk|masih', 'sini', 'sudah', 'suitable', 'support', 'tahu', 'tahunmu', 'tahun|merayakan', 'task', 'teman', 'temanku', 'temanmu', 'tempat', 'tentang', 'terburuk', 'terlihat', 'tertawa', 'thank', 'thanks', 'that', 'there', 'tidak', 'till', 'time', 'tinggalmu', 'to', 'transfer', 'ulang', 'umur', 'umurmu', 'untuk', 'untukku', 'up', 'want', 'what', 'which', 'with', 'yakin', 'yang', 'you', '|sekarang|dengan']\n"
     ]
    }
   ],
   "source": [
    "for intent in intents['intents']:\n",
    "    for pattern in intent['patterns']:\n",
    "        #tokenize each word\n",
    "        w = nltk.word_tokenize(pattern)\n",
    "        words.extend(w)\n",
    "        #add documents in the corpus\n",
    "        documents.append((w, intent['tag']))\n",
    "        # add to our classes list\n",
    "        if intent['tag'] not in classes:\n",
    "            classes.append(intent['tag'])\n",
    "\n",
    "# lemmatize, lower each word and remove duplicates\n",
    "words = [lemmatizer.lemmatize(w.lower()) for w in words if w not in ignore_words]\n",
    "words = sorted(list(set(words)))\n",
    "# sort classes\n",
    "classes = sorted(list(set(classes)))\n",
    "# documents = combination between patterns and intents\n",
    "print (len(documents), \"documents\")\n",
    "# classes = intents\n",
    "print (len(classes), \"classes\", classes)\n",
    "# words = all words, vocabulary\n",
    "print (len(words), \"unique lemmatized words\", words)\n",
    "pickle.dump(words,open('words.pkl','wb'))\n",
    "pickle.dump(classes,open('classes.pkl','wb'))"
   ]
  },
  {
   "cell_type": "code",
   "execution_count": 9,
   "id": "5ddc46c3",
   "metadata": {},
   "outputs": [
    {
     "name": "stdout",
     "output_type": "stream",
     "text": [
      "Training data created\n"
     ]
    },
    {
     "name": "stderr",
     "output_type": "stream",
     "text": [
      "C:\\Users\\user\\AppData\\Local\\Temp\\ipykernel_15300\\2836083368.py:22: VisibleDeprecationWarning: Creating an ndarray from ragged nested sequences (which is a list-or-tuple of lists-or-tuples-or ndarrays with different lengths or shapes) is deprecated. If you meant to do this, you must specify 'dtype=object' when creating the ndarray.\n",
      "  training = np.array(training)\n"
     ]
    }
   ],
   "source": [
    "# create our training data\n",
    "training = []\n",
    "# create an empty array for our output\n",
    "output_empty = [0] * len(classes)\n",
    "# training set, bag of words for each sentence\n",
    "for doc in documents:\n",
    "    # initialize our bag of words\n",
    "    bag = []\n",
    "    # list of tokenized words for the pattern\n",
    "    pattern_words = doc[0]\n",
    "    # lemmatize each word - create base word, in attempt to represent related words\n",
    "    pattern_words = [lemmatizer.lemmatize(word.lower()) for word in pattern_words]\n",
    "    # create our bag of words array with 1, if word match found in current pattern\n",
    "    for w in words:\n",
    "        bag.append(1) if w in pattern_words else bag.append(0)\n",
    "    # output is a '0' for each tag and '1' for current tag (for each pattern)\n",
    "    output_row = list(output_empty)\n",
    "    output_row[classes.index(doc[1])] = 1\n",
    "    training.append([bag, output_row])\n",
    "# shuffle our features and turn into np.array\n",
    "random.shuffle(training)\n",
    "training = np.array(training)\n",
    "# create train and test lists. X - patterns, Y - intents\n",
    "train_x = list(training[:,0])\n",
    "train_y = list(training[:,1])\n",
    "print(\"Training data created\")"
   ]
  },
  {
   "cell_type": "code",
   "execution_count": 10,
   "id": "aa33edfb",
   "metadata": {},
   "outputs": [],
   "source": [
    "import tensorflow as tf\n",
    "from tensorflow.keras.optimizers import SGD"
   ]
  },
  {
   "cell_type": "code",
   "execution_count": 11,
   "id": "625420e9",
   "metadata": {},
   "outputs": [],
   "source": [
    "lr_schedule = tf.keras.optimizers.schedules.ExponentialDecay(\n",
    "    initial_learning_rate=0.01,\n",
    "    decay_steps=1e-6,\n",
    "    decay_rate=0.9)\n",
    "optimizer = tf.keras.optimizers.SGD(learning_rate=lr_schedule)"
   ]
  },
  {
   "cell_type": "code",
   "execution_count": 12,
   "id": "3b595579",
   "metadata": {},
   "outputs": [],
   "source": [
    "# Create model - 3 layers. First layer 128 neurons, second layer 64 neurons and 3rd output layer contains number of neurons\n",
    "# equal to number of intents to predict output intent with softmax\n",
    "model = Sequential()\n",
    "model.add(Dense(128, input_shape=(len(train_x[0]),), activation='relu'))\n",
    "model.add(Dropout(0.5))\n",
    "model.add(Dense(64, activation='relu'))\n",
    "model.add(Dropout(0.5))\n",
    "model.add(Dense(256, activation='relu'))\n",
    "model.add(Dropout(0.5))\n",
    "model.add(Dense(512, activation='relu'))\n",
    "model.add(Dropout(0.5))\n",
    "model.add(Dense(len(train_y[0]), activation='softmax'))\n",
    "# Compile model. Stochastic gradient descent with Nesterov accelerated gradient gives good results for this model\n",
    "# sgd = SGD(learning_rate=0.01, decay=1e-6, momentum=0.9, nesterov=True)\n",
    "model.compile(loss='categorical_crossentropy', optimizer=optimizer, metrics=['accuracy'])\n"
   ]
  },
  {
   "cell_type": "code",
   "execution_count": 13,
   "id": "39eb5f8b",
   "metadata": {},
   "outputs": [
    {
     "name": "stdout",
     "output_type": "stream",
     "text": [
      "Epoch 1/200\n",
      "76/76 [==============================] - 1s 1ms/step - loss: 3.7205 - accuracy: 0.0293\n",
      "Epoch 2/200\n",
      "76/76 [==============================] - 0s 1ms/step - loss: 3.7245 - accuracy: 0.0213\n",
      "Epoch 3/200\n",
      "76/76 [==============================] - 0s 1ms/step - loss: 3.7158 - accuracy: 0.0266\n",
      "Epoch 4/200\n",
      "76/76 [==============================] - 0s 1ms/step - loss: 3.7218 - accuracy: 0.0186\n",
      "Epoch 5/200\n",
      "76/76 [==============================] - 0s 1ms/step - loss: 3.7116 - accuracy: 0.0372\n",
      "Epoch 6/200\n",
      "76/76 [==============================] - 0s 1ms/step - loss: 3.7183 - accuracy: 0.0319\n",
      "Epoch 7/200\n",
      "76/76 [==============================] - 0s 1ms/step - loss: 3.7173 - accuracy: 0.0160\n",
      "Epoch 8/200\n",
      "76/76 [==============================] - 0s 1ms/step - loss: 3.7201 - accuracy: 0.0266\n",
      "Epoch 9/200\n",
      "76/76 [==============================] - 0s 1ms/step - loss: 3.7141 - accuracy: 0.0186\n",
      "Epoch 10/200\n",
      "76/76 [==============================] - 0s 1ms/step - loss: 3.7117 - accuracy: 0.0186\n",
      "Epoch 11/200\n",
      "76/76 [==============================] - 0s 1ms/step - loss: 3.7183 - accuracy: 0.0186\n",
      "Epoch 12/200\n",
      "76/76 [==============================] - 0s 1ms/step - loss: 3.7191 - accuracy: 0.0186\n",
      "Epoch 13/200\n",
      "76/76 [==============================] - 0s 1ms/step - loss: 3.7080 - accuracy: 0.0346\n",
      "Epoch 14/200\n",
      "76/76 [==============================] - 0s 1ms/step - loss: 3.7130 - accuracy: 0.0372\n",
      "Epoch 15/200\n",
      "76/76 [==============================] - 0s 1ms/step - loss: 3.7188 - accuracy: 0.0160\n",
      "Epoch 16/200\n",
      "76/76 [==============================] - 0s 1ms/step - loss: 3.7110 - accuracy: 0.0186\n",
      "Epoch 17/200\n",
      "76/76 [==============================] - 0s 1ms/step - loss: 3.7160 - accuracy: 0.0399\n",
      "Epoch 18/200\n",
      "76/76 [==============================] - 0s 1ms/step - loss: 3.7165 - accuracy: 0.0213\n",
      "Epoch 19/200\n",
      "76/76 [==============================] - 0s 1ms/step - loss: 3.7211 - accuracy: 0.0426\n",
      "Epoch 20/200\n",
      "76/76 [==============================] - 0s 1ms/step - loss: 3.7213 - accuracy: 0.0266\n",
      "Epoch 21/200\n",
      "76/76 [==============================] - 0s 1ms/step - loss: 3.7212 - accuracy: 0.0266\n",
      "Epoch 22/200\n",
      "76/76 [==============================] - 0s 1ms/step - loss: 3.7150 - accuracy: 0.0213\n",
      "Epoch 23/200\n",
      "76/76 [==============================] - 0s 1ms/step - loss: 3.7181 - accuracy: 0.0213\n",
      "Epoch 24/200\n",
      "76/76 [==============================] - 0s 1ms/step - loss: 3.7258 - accuracy: 0.0213\n",
      "Epoch 25/200\n",
      "76/76 [==============================] - 0s 1ms/step - loss: 3.7213 - accuracy: 0.0186\n",
      "Epoch 26/200\n",
      "76/76 [==============================] - 0s 1ms/step - loss: 3.7162 - accuracy: 0.0239\n",
      "Epoch 27/200\n",
      "76/76 [==============================] - 0s 1ms/step - loss: 3.7171 - accuracy: 0.0080\n",
      "Epoch 28/200\n",
      "76/76 [==============================] - 0s 1ms/step - loss: 3.7140 - accuracy: 0.0266\n",
      "Epoch 29/200\n",
      "76/76 [==============================] - 0s 1ms/step - loss: 3.7131 - accuracy: 0.0399\n",
      "Epoch 30/200\n",
      "76/76 [==============================] - 0s 1ms/step - loss: 3.7259 - accuracy: 0.0213\n",
      "Epoch 31/200\n",
      "76/76 [==============================] - 0s 1ms/step - loss: 3.7227 - accuracy: 0.0133\n",
      "Epoch 32/200\n",
      "76/76 [==============================] - 0s 1ms/step - loss: 3.7180 - accuracy: 0.0186\n",
      "Epoch 33/200\n",
      "76/76 [==============================] - 0s 1ms/step - loss: 3.7106 - accuracy: 0.0372\n",
      "Epoch 34/200\n",
      "76/76 [==============================] - 0s 1ms/step - loss: 3.7139 - accuracy: 0.0213\n",
      "Epoch 35/200\n",
      "76/76 [==============================] - 0s 1ms/step - loss: 3.7180 - accuracy: 0.0346\n",
      "Epoch 36/200\n",
      "76/76 [==============================] - 0s 1ms/step - loss: 3.7268 - accuracy: 0.0213\n",
      "Epoch 37/200\n",
      "76/76 [==============================] - 0s 1ms/step - loss: 3.7164 - accuracy: 0.0239\n",
      "Epoch 38/200\n",
      "76/76 [==============================] - 0s 1ms/step - loss: 3.7205 - accuracy: 0.0160\n",
      "Epoch 39/200\n",
      "76/76 [==============================] - 0s 1ms/step - loss: 3.7246 - accuracy: 0.0319\n",
      "Epoch 40/200\n",
      "76/76 [==============================] - 0s 1ms/step - loss: 3.7101 - accuracy: 0.0346\n",
      "Epoch 41/200\n",
      "76/76 [==============================] - 0s 2ms/step - loss: 3.7072 - accuracy: 0.0372\n",
      "Epoch 42/200\n",
      "76/76 [==============================] - 0s 1ms/step - loss: 3.7028 - accuracy: 0.0293\n",
      "Epoch 43/200\n",
      "76/76 [==============================] - 0s 1ms/step - loss: 3.7155 - accuracy: 0.0346\n",
      "Epoch 44/200\n",
      "76/76 [==============================] - 0s 1ms/step - loss: 3.7178 - accuracy: 0.0293\n",
      "Epoch 45/200\n",
      "76/76 [==============================] - 0s 1ms/step - loss: 3.7165 - accuracy: 0.0266\n",
      "Epoch 46/200\n",
      "76/76 [==============================] - 0s 1ms/step - loss: 3.7096 - accuracy: 0.0532\n",
      "Epoch 47/200\n",
      "76/76 [==============================] - 0s 1ms/step - loss: 3.7190 - accuracy: 0.0239\n",
      "Epoch 48/200\n",
      "76/76 [==============================] - 0s 1ms/step - loss: 3.7156 - accuracy: 0.0319\n",
      "Epoch 49/200\n",
      "76/76 [==============================] - 0s 1ms/step - loss: 3.7110 - accuracy: 0.0293\n",
      "Epoch 50/200\n",
      "76/76 [==============================] - 0s 1ms/step - loss: 3.7111 - accuracy: 0.0293\n",
      "Epoch 51/200\n",
      "76/76 [==============================] - 0s 1ms/step - loss: 3.7217 - accuracy: 0.0213\n",
      "Epoch 52/200\n",
      "76/76 [==============================] - 0s 1ms/step - loss: 3.7173 - accuracy: 0.0346\n",
      "Epoch 53/200\n",
      "76/76 [==============================] - 0s 1ms/step - loss: 3.7123 - accuracy: 0.0213\n",
      "Epoch 54/200\n",
      "76/76 [==============================] - 0s 1ms/step - loss: 3.7105 - accuracy: 0.0319\n",
      "Epoch 55/200\n",
      "76/76 [==============================] - 0s 1ms/step - loss: 3.7189 - accuracy: 0.0372\n",
      "Epoch 56/200\n",
      "76/76 [==============================] - 0s 1ms/step - loss: 3.7129 - accuracy: 0.0266\n",
      "Epoch 57/200\n",
      "76/76 [==============================] - 0s 1ms/step - loss: 3.7222 - accuracy: 0.0213\n",
      "Epoch 58/200\n",
      "76/76 [==============================] - 0s 1ms/step - loss: 3.7196 - accuracy: 0.0293\n",
      "Epoch 59/200\n",
      "76/76 [==============================] - 0s 1ms/step - loss: 3.7104 - accuracy: 0.0346\n",
      "Epoch 60/200\n",
      "76/76 [==============================] - 0s 2ms/step - loss: 3.7191 - accuracy: 0.0239\n",
      "Epoch 61/200\n",
      "76/76 [==============================] - 0s 1ms/step - loss: 3.7141 - accuracy: 0.0319\n",
      "Epoch 62/200\n",
      "76/76 [==============================] - 0s 1ms/step - loss: 3.7182 - accuracy: 0.0213\n",
      "Epoch 63/200\n",
      "76/76 [==============================] - 0s 1ms/step - loss: 3.7213 - accuracy: 0.0213\n",
      "Epoch 64/200\n",
      "76/76 [==============================] - 0s 1ms/step - loss: 3.7254 - accuracy: 0.0239\n",
      "Epoch 65/200\n",
      "76/76 [==============================] - 0s 1ms/step - loss: 3.7209 - accuracy: 0.0213\n",
      "Epoch 66/200\n",
      "76/76 [==============================] - 0s 1ms/step - loss: 3.7188 - accuracy: 0.0346\n",
      "Epoch 67/200\n",
      "76/76 [==============================] - 0s 1ms/step - loss: 3.7091 - accuracy: 0.0479\n",
      "Epoch 68/200\n",
      "76/76 [==============================] - 0s 1ms/step - loss: 3.7310 - accuracy: 0.0133\n",
      "Epoch 69/200\n",
      "76/76 [==============================] - 0s 1ms/step - loss: 3.7183 - accuracy: 0.0213\n",
      "Epoch 70/200\n",
      "76/76 [==============================] - 0s 1ms/step - loss: 3.7180 - accuracy: 0.0266\n",
      "Epoch 71/200\n",
      "76/76 [==============================] - 0s 1ms/step - loss: 3.7125 - accuracy: 0.0346\n",
      "Epoch 72/200\n",
      "76/76 [==============================] - 0s 1ms/step - loss: 3.7264 - accuracy: 0.0133\n",
      "Epoch 73/200\n",
      "76/76 [==============================] - 0s 1ms/step - loss: 3.7216 - accuracy: 0.0213\n",
      "Epoch 74/200\n",
      "76/76 [==============================] - 0s 1ms/step - loss: 3.7087 - accuracy: 0.0213\n",
      "Epoch 75/200\n",
      "76/76 [==============================] - 0s 1ms/step - loss: 3.7198 - accuracy: 0.0186\n",
      "Epoch 76/200\n",
      "76/76 [==============================] - 0s 1ms/step - loss: 3.7154 - accuracy: 0.0239\n",
      "Epoch 77/200\n",
      "76/76 [==============================] - 0s 1ms/step - loss: 3.7133 - accuracy: 0.0266\n",
      "Epoch 78/200\n",
      "76/76 [==============================] - 0s 1ms/step - loss: 3.7186 - accuracy: 0.0186\n",
      "Epoch 79/200\n",
      "76/76 [==============================] - 0s 1ms/step - loss: 3.7183 - accuracy: 0.0213\n",
      "Epoch 80/200\n",
      "76/76 [==============================] - 0s 1ms/step - loss: 3.7193 - accuracy: 0.0293\n",
      "Epoch 81/200\n",
      "76/76 [==============================] - 0s 1ms/step - loss: 3.7197 - accuracy: 0.0160\n",
      "Epoch 82/200\n",
      "76/76 [==============================] - 0s 1ms/step - loss: 3.7093 - accuracy: 0.0399\n",
      "Epoch 83/200\n"
     ]
    },
    {
     "name": "stdout",
     "output_type": "stream",
     "text": [
      "76/76 [==============================] - 0s 1ms/step - loss: 3.7131 - accuracy: 0.0319\n",
      "Epoch 84/200\n",
      "76/76 [==============================] - 0s 1ms/step - loss: 3.7175 - accuracy: 0.0239\n",
      "Epoch 85/200\n",
      "76/76 [==============================] - 0s 1ms/step - loss: 3.7156 - accuracy: 0.0293\n",
      "Epoch 86/200\n",
      "76/76 [==============================] - 0s 1ms/step - loss: 3.7137 - accuracy: 0.0186\n",
      "Epoch 87/200\n",
      "76/76 [==============================] - 0s 1ms/step - loss: 3.7165 - accuracy: 0.0239\n",
      "Epoch 88/200\n",
      "76/76 [==============================] - 0s 1ms/step - loss: 3.7168 - accuracy: 0.0346\n",
      "Epoch 89/200\n",
      "76/76 [==============================] - 0s 1ms/step - loss: 3.7254 - accuracy: 0.0239\n",
      "Epoch 90/200\n",
      "76/76 [==============================] - 0s 1ms/step - loss: 3.7154 - accuracy: 0.0293\n",
      "Epoch 91/200\n",
      "76/76 [==============================] - 0s 962us/step - loss: 3.7172 - accuracy: 0.0266\n",
      "Epoch 92/200\n",
      "76/76 [==============================] - 0s 1ms/step - loss: 3.7176 - accuracy: 0.0266\n",
      "Epoch 93/200\n",
      "76/76 [==============================] - 0s 1ms/step - loss: 3.7209 - accuracy: 0.0186\n",
      "Epoch 94/200\n",
      "76/76 [==============================] - 0s 1ms/step - loss: 3.7150 - accuracy: 0.0213\n",
      "Epoch 95/200\n",
      "76/76 [==============================] - 0s 1ms/step - loss: 3.7169 - accuracy: 0.0319\n",
      "Epoch 96/200\n",
      "76/76 [==============================] - 0s 1ms/step - loss: 3.7190 - accuracy: 0.0319\n",
      "Epoch 97/200\n",
      "76/76 [==============================] - 0s 1ms/step - loss: 3.7118 - accuracy: 0.0293\n",
      "Epoch 98/200\n",
      "76/76 [==============================] - 0s 1ms/step - loss: 3.7225 - accuracy: 0.0293\n",
      "Epoch 99/200\n",
      "76/76 [==============================] - 0s 1ms/step - loss: 3.7166 - accuracy: 0.0266\n",
      "Epoch 100/200\n",
      "76/76 [==============================] - 0s 1ms/step - loss: 3.7148 - accuracy: 0.0319\n",
      "Epoch 101/200\n",
      "76/76 [==============================] - 0s 1ms/step - loss: 3.7078 - accuracy: 0.0346\n",
      "Epoch 102/200\n",
      "76/76 [==============================] - 0s 2ms/step - loss: 3.7100 - accuracy: 0.0239\n",
      "Epoch 103/200\n",
      "76/76 [==============================] - 0s 1ms/step - loss: 3.7184 - accuracy: 0.0133\n",
      "Epoch 104/200\n",
      "76/76 [==============================] - 0s 1ms/step - loss: 3.7153 - accuracy: 0.0293\n",
      "Epoch 105/200\n",
      "76/76 [==============================] - 0s 2ms/step - loss: 3.7161 - accuracy: 0.0239\n",
      "Epoch 106/200\n",
      "76/76 [==============================] - 0s 2ms/step - loss: 3.7238 - accuracy: 0.0293\n",
      "Epoch 107/200\n",
      "76/76 [==============================] - 0s 1ms/step - loss: 3.7247 - accuracy: 0.0133\n",
      "Epoch 108/200\n",
      "76/76 [==============================] - 0s 984us/step - loss: 3.7162 - accuracy: 0.0612\n",
      "Epoch 109/200\n",
      "76/76 [==============================] - 0s 1ms/step - loss: 3.7177 - accuracy: 0.0186\n",
      "Epoch 110/200\n",
      "76/76 [==============================] - 0s 1ms/step - loss: 3.7115 - accuracy: 0.0319\n",
      "Epoch 111/200\n",
      "76/76 [==============================] - 0s 1ms/step - loss: 3.7122 - accuracy: 0.0266\n",
      "Epoch 112/200\n",
      "76/76 [==============================] - 0s 1ms/step - loss: 3.7135 - accuracy: 0.0213\n",
      "Epoch 113/200\n",
      "76/76 [==============================] - 0s 2ms/step - loss: 3.7174 - accuracy: 0.0319\n",
      "Epoch 114/200\n",
      "76/76 [==============================] - 0s 2ms/step - loss: 3.7138 - accuracy: 0.0293\n",
      "Epoch 115/200\n",
      "76/76 [==============================] - 0s 1ms/step - loss: 3.7175 - accuracy: 0.0239\n",
      "Epoch 116/200\n",
      "76/76 [==============================] - 0s 1ms/step - loss: 3.7163 - accuracy: 0.0266\n",
      "Epoch 117/200\n",
      "76/76 [==============================] - 0s 1ms/step - loss: 3.7116 - accuracy: 0.0239\n",
      "Epoch 118/200\n",
      "76/76 [==============================] - 0s 2ms/step - loss: 3.7169 - accuracy: 0.0399\n",
      "Epoch 119/200\n",
      "76/76 [==============================] - 0s 2ms/step - loss: 3.7170 - accuracy: 0.0239\n",
      "Epoch 120/200\n",
      "76/76 [==============================] - 0s 2ms/step - loss: 3.7063 - accuracy: 0.0239\n",
      "Epoch 121/200\n",
      "76/76 [==============================] - 0s 2ms/step - loss: 3.7213 - accuracy: 0.0160\n",
      "Epoch 122/200\n",
      "76/76 [==============================] - 0s 1ms/step - loss: 3.7176 - accuracy: 0.0053\n",
      "Epoch 123/200\n",
      "76/76 [==============================] - 0s 2ms/step - loss: 3.7151 - accuracy: 0.0346\n",
      "Epoch 124/200\n",
      "76/76 [==============================] - 0s 2ms/step - loss: 3.7094 - accuracy: 0.0372\n",
      "Epoch 125/200\n",
      "76/76 [==============================] - 0s 2ms/step - loss: 3.7215 - accuracy: 0.0372\n",
      "Epoch 126/200\n",
      "76/76 [==============================] - 0s 2ms/step - loss: 3.7246 - accuracy: 0.0239\n",
      "Epoch 127/200\n",
      "76/76 [==============================] - 0s 2ms/step - loss: 3.7206 - accuracy: 0.0293\n",
      "Epoch 128/200\n",
      "76/76 [==============================] - 0s 2ms/step - loss: 3.7125 - accuracy: 0.0266\n",
      "Epoch 129/200\n",
      "76/76 [==============================] - 0s 1ms/step - loss: 3.7111 - accuracy: 0.0372\n",
      "Epoch 130/200\n",
      "76/76 [==============================] - 0s 1ms/step - loss: 3.7132 - accuracy: 0.0293\n",
      "Epoch 131/200\n",
      "76/76 [==============================] - 0s 1ms/step - loss: 3.7256 - accuracy: 0.0186\n",
      "Epoch 132/200\n",
      "76/76 [==============================] - 0s 1ms/step - loss: 3.7198 - accuracy: 0.0319\n",
      "Epoch 133/200\n",
      "76/76 [==============================] - 0s 1ms/step - loss: 3.7236 - accuracy: 0.0319\n",
      "Epoch 134/200\n",
      "76/76 [==============================] - 0s 1ms/step - loss: 3.7112 - accuracy: 0.0372\n",
      "Epoch 135/200\n",
      "76/76 [==============================] - 0s 1ms/step - loss: 3.7152 - accuracy: 0.0186\n",
      "Epoch 136/200\n",
      "76/76 [==============================] - 0s 1ms/step - loss: 3.7201 - accuracy: 0.0213\n",
      "Epoch 137/200\n",
      "76/76 [==============================] - 0s 1ms/step - loss: 3.7203 - accuracy: 0.0266\n",
      "Epoch 138/200\n",
      "76/76 [==============================] - 0s 1ms/step - loss: 3.7192 - accuracy: 0.0346\n",
      "Epoch 139/200\n",
      "76/76 [==============================] - 0s 1ms/step - loss: 3.7100 - accuracy: 0.0293\n",
      "Epoch 140/200\n",
      "76/76 [==============================] - 0s 1ms/step - loss: 3.7132 - accuracy: 0.0399\n",
      "Epoch 141/200\n",
      "76/76 [==============================] - 0s 1ms/step - loss: 3.7100 - accuracy: 0.0266\n",
      "Epoch 142/200\n",
      "76/76 [==============================] - 0s 1ms/step - loss: 3.7140 - accuracy: 0.0186\n",
      "Epoch 143/200\n",
      "76/76 [==============================] - 0s 1ms/step - loss: 3.7199 - accuracy: 0.0399\n",
      "Epoch 144/200\n",
      "76/76 [==============================] - 0s 1ms/step - loss: 3.7175 - accuracy: 0.0266\n",
      "Epoch 145/200\n",
      "76/76 [==============================] - 0s 1ms/step - loss: 3.7226 - accuracy: 0.0213\n",
      "Epoch 146/200\n",
      "76/76 [==============================] - 0s 1ms/step - loss: 3.7097 - accuracy: 0.0293\n",
      "Epoch 147/200\n",
      "76/76 [==============================] - 0s 1ms/step - loss: 3.7122 - accuracy: 0.0239\n",
      "Epoch 148/200\n",
      "76/76 [==============================] - 0s 1ms/step - loss: 3.7134 - accuracy: 0.0452\n",
      "Epoch 149/200\n",
      "76/76 [==============================] - 0s 1ms/step - loss: 3.7177 - accuracy: 0.0293\n",
      "Epoch 150/200\n",
      "76/76 [==============================] - 0s 1ms/step - loss: 3.7116 - accuracy: 0.0399\n",
      "Epoch 151/200\n",
      "76/76 [==============================] - 0s 1ms/step - loss: 3.7218 - accuracy: 0.0239\n",
      "Epoch 152/200\n",
      "76/76 [==============================] - 0s 1ms/step - loss: 3.7169 - accuracy: 0.0080\n",
      "Epoch 153/200\n",
      "76/76 [==============================] - 0s 1ms/step - loss: 3.7082 - accuracy: 0.0293\n",
      "Epoch 154/200\n",
      "76/76 [==============================] - 0s 1ms/step - loss: 3.7242 - accuracy: 0.0213\n",
      "Epoch 155/200\n",
      "76/76 [==============================] - 0s 1ms/step - loss: 3.7095 - accuracy: 0.0160\n",
      "Epoch 156/200\n",
      "76/76 [==============================] - 0s 1ms/step - loss: 3.7209 - accuracy: 0.0399\n",
      "Epoch 157/200\n",
      "76/76 [==============================] - 0s 1ms/step - loss: 3.7148 - accuracy: 0.0239\n",
      "Epoch 158/200\n",
      "76/76 [==============================] - 0s 1ms/step - loss: 3.7172 - accuracy: 0.0213\n",
      "Epoch 159/200\n",
      "76/76 [==============================] - 0s 1ms/step - loss: 3.7215 - accuracy: 0.0213\n",
      "Epoch 160/200\n",
      "76/76 [==============================] - 0s 1ms/step - loss: 3.7171 - accuracy: 0.0239\n",
      "Epoch 161/200\n",
      "76/76 [==============================] - 0s 1ms/step - loss: 3.7174 - accuracy: 0.0213\n",
      "Epoch 162/200\n",
      "76/76 [==============================] - 0s 1ms/step - loss: 3.7096 - accuracy: 0.0426\n",
      "Epoch 163/200\n",
      "76/76 [==============================] - 0s 1ms/step - loss: 3.7051 - accuracy: 0.0186\n",
      "Epoch 164/200\n"
     ]
    },
    {
     "name": "stdout",
     "output_type": "stream",
     "text": [
      "76/76 [==============================] - 0s 1ms/step - loss: 3.7208 - accuracy: 0.0186\n",
      "Epoch 165/200\n",
      "76/76 [==============================] - 0s 1ms/step - loss: 3.7210 - accuracy: 0.0239\n",
      "Epoch 166/200\n",
      "76/76 [==============================] - 0s 1ms/step - loss: 3.7141 - accuracy: 0.0266\n",
      "Epoch 167/200\n",
      "76/76 [==============================] - 0s 1ms/step - loss: 3.7153 - accuracy: 0.0239\n",
      "Epoch 168/200\n",
      "76/76 [==============================] - 0s 1ms/step - loss: 3.7132 - accuracy: 0.0160\n",
      "Epoch 169/200\n",
      "76/76 [==============================] - 0s 1ms/step - loss: 3.7169 - accuracy: 0.0213\n",
      "Epoch 170/200\n",
      "76/76 [==============================] - 0s 1ms/step - loss: 3.7157 - accuracy: 0.0293\n",
      "Epoch 171/200\n",
      "76/76 [==============================] - 0s 1ms/step - loss: 3.7145 - accuracy: 0.0346\n",
      "Epoch 172/200\n",
      "76/76 [==============================] - 0s 1ms/step - loss: 3.7119 - accuracy: 0.0293\n",
      "Epoch 173/200\n",
      "76/76 [==============================] - 0s 1ms/step - loss: 3.7198 - accuracy: 0.0426\n",
      "Epoch 174/200\n",
      "76/76 [==============================] - 0s 1ms/step - loss: 3.7126 - accuracy: 0.0213\n",
      "Epoch 175/200\n",
      "76/76 [==============================] - 0s 1ms/step - loss: 3.7149 - accuracy: 0.0346\n",
      "Epoch 176/200\n",
      "76/76 [==============================] - 0s 1ms/step - loss: 3.7274 - accuracy: 0.0266\n",
      "Epoch 177/200\n",
      "76/76 [==============================] - 0s 1ms/step - loss: 3.7073 - accuracy: 0.0372\n",
      "Epoch 178/200\n",
      "76/76 [==============================] - 0s 1ms/step - loss: 3.7188 - accuracy: 0.0239\n",
      "Epoch 179/200\n",
      "76/76 [==============================] - 0s 1ms/step - loss: 3.7199 - accuracy: 0.0319\n",
      "Epoch 180/200\n",
      "76/76 [==============================] - 0s 1ms/step - loss: 3.7249 - accuracy: 0.0266\n",
      "Epoch 181/200\n",
      "76/76 [==============================] - 0s 1ms/step - loss: 3.7174 - accuracy: 0.0186\n",
      "Epoch 182/200\n",
      "76/76 [==============================] - 0s 1ms/step - loss: 3.7114 - accuracy: 0.0452\n",
      "Epoch 183/200\n",
      "76/76 [==============================] - 0s 1ms/step - loss: 3.7087 - accuracy: 0.0372\n",
      "Epoch 184/200\n",
      "76/76 [==============================] - 0s 1ms/step - loss: 3.7172 - accuracy: 0.0426\n",
      "Epoch 185/200\n",
      "76/76 [==============================] - 0s 1ms/step - loss: 3.7086 - accuracy: 0.0186\n",
      "Epoch 186/200\n",
      "76/76 [==============================] - 0s 1ms/step - loss: 3.7195 - accuracy: 0.0346\n",
      "Epoch 187/200\n",
      "76/76 [==============================] - 0s 1ms/step - loss: 3.7183 - accuracy: 0.0266\n",
      "Epoch 188/200\n",
      "76/76 [==============================] - 0s 1ms/step - loss: 3.7146 - accuracy: 0.0239\n",
      "Epoch 189/200\n",
      "76/76 [==============================] - 0s 1ms/step - loss: 3.7250 - accuracy: 0.0239\n",
      "Epoch 190/200\n",
      "76/76 [==============================] - 0s 1ms/step - loss: 3.7214 - accuracy: 0.0266\n",
      "Epoch 191/200\n",
      "76/76 [==============================] - 0s 1ms/step - loss: 3.7053 - accuracy: 0.0372\n",
      "Epoch 192/200\n",
      "76/76 [==============================] - 0s 1ms/step - loss: 3.7165 - accuracy: 0.0213\n",
      "Epoch 193/200\n",
      "76/76 [==============================] - 0s 1ms/step - loss: 3.7180 - accuracy: 0.0266\n",
      "Epoch 194/200\n",
      "76/76 [==============================] - 0s 1ms/step - loss: 3.7177 - accuracy: 0.0319\n",
      "Epoch 195/200\n",
      "76/76 [==============================] - 0s 1ms/step - loss: 3.7189 - accuracy: 0.0266\n",
      "Epoch 196/200\n",
      "76/76 [==============================] - 0s 1ms/step - loss: 3.7237 - accuracy: 0.0319\n",
      "Epoch 197/200\n",
      "76/76 [==============================] - 0s 1ms/step - loss: 3.7098 - accuracy: 0.0266\n",
      "Epoch 198/200\n",
      "76/76 [==============================] - 0s 1ms/step - loss: 3.7092 - accuracy: 0.0266\n",
      "Epoch 199/200\n",
      "76/76 [==============================] - 0s 1ms/step - loss: 3.7178 - accuracy: 0.0293\n",
      "Epoch 200/200\n",
      "76/76 [==============================] - 0s 1ms/step - loss: 3.7218 - accuracy: 0.0239\n"
     ]
    }
   ],
   "source": [
    "#fitting the model\n",
    "hist = model.fit(np.array(train_x), np.array(train_y), epochs=200, batch_size=5, verbose=1)"
   ]
  },
  {
   "cell_type": "code",
   "execution_count": 13,
   "id": "66156e8f",
   "metadata": {},
   "outputs": [
    {
     "name": "stdout",
     "output_type": "stream",
     "text": [
      "model created\n"
     ]
    }
   ],
   "source": [
    "# Saving the model\n",
    "model.save('chatbot_model.h5', hist)\n",
    "print(\"model created\")"
   ]
  },
  {
   "cell_type": "code",
   "execution_count": 43,
   "id": "e9ee6cee",
   "metadata": {},
   "outputs": [],
   "source": [
    "import tensorflow as tf\n",
    "from transformers import TFBertForQuestionAnswering, BertTokenizer"
   ]
  },
  {
   "cell_type": "code",
   "execution_count": 34,
   "id": "e68b7c69",
   "metadata": {
    "scrolled": true
   },
   "outputs": [
    {
     "name": "stdout",
     "output_type": "stream",
     "text": [
      "Collecting transformers\n",
      "  Downloading transformers-4.29.2-py3-none-any.whl (7.1 MB)\n",
      "     ---------------------------------------- 7.1/7.1 MB 4.9 MB/s eta 0:00:00\n",
      "Requirement already satisfied: packaging>=20.0 in c:\\users\\user\\appdata\\roaming\\python\\python39\\site-packages (from transformers) (23.1)\n",
      "Collecting huggingface-hub<1.0,>=0.14.1\n",
      "  Downloading huggingface_hub-0.14.1-py3-none-any.whl (224 kB)\n",
      "     -------------------------------------- 224.5/224.5 kB 6.9 MB/s eta 0:00:00\n",
      "Collecting tokenizers!=0.11.3,<0.14,>=0.11.1\n",
      "  Downloading tokenizers-0.13.3-cp39-cp39-win_amd64.whl (3.5 MB)\n",
      "     ---------------------------------------- 3.5/3.5 MB 13.1 MB/s eta 0:00:00\n",
      "Requirement already satisfied: tqdm>=4.27 in c:\\users\\user\\anaconda3\\lib\\site-packages (from transformers) (4.64.1)\n",
      "Requirement already satisfied: requests in c:\\users\\user\\anaconda3\\lib\\site-packages (from transformers) (2.28.1)\n",
      "Requirement already satisfied: filelock in c:\\users\\user\\anaconda3\\lib\\site-packages (from transformers) (3.6.0)\n",
      "Collecting pyyaml>=5.1\n",
      "  Downloading PyYAML-6.0-cp39-cp39-win_amd64.whl (151 kB)\n",
      "     -------------------------------------- 151.6/151.6 kB 8.8 MB/s eta 0:00:00\n",
      "Requirement already satisfied: regex!=2019.12.17 in c:\\users\\user\\anaconda3\\lib\\site-packages (from transformers) (2022.7.9)\n",
      "Requirement already satisfied: numpy>=1.17 in c:\\users\\user\\anaconda3\\lib\\site-packages (from transformers) (1.21.5)\n",
      "Requirement already satisfied: fsspec in c:\\users\\user\\anaconda3\\lib\\site-packages (from huggingface-hub<1.0,>=0.14.1->transformers) (2022.7.1)\n",
      "Requirement already satisfied: typing-extensions>=3.7.4.3 in c:\\users\\user\\appdata\\roaming\\python\\python39\\site-packages (from huggingface-hub<1.0,>=0.14.1->transformers) (4.5.0)\n",
      "Requirement already satisfied: colorama in c:\\users\\user\\appdata\\roaming\\python\\python39\\site-packages (from tqdm>=4.27->transformers) (0.4.6)\n",
      "Requirement already satisfied: charset-normalizer<3,>=2 in c:\\users\\user\\anaconda3\\lib\\site-packages (from requests->transformers) (2.0.4)\n",
      "Requirement already satisfied: certifi>=2017.4.17 in c:\\users\\user\\anaconda3\\lib\\site-packages (from requests->transformers) (2022.9.14)\n",
      "Requirement already satisfied: urllib3<1.27,>=1.21.1 in c:\\users\\user\\anaconda3\\lib\\site-packages (from requests->transformers) (1.26.11)\n",
      "Requirement already satisfied: idna<4,>=2.5 in c:\\users\\user\\anaconda3\\lib\\site-packages (from requests->transformers) (3.3)\n",
      "Installing collected packages: tokenizers, pyyaml, huggingface-hub, transformers\n",
      "  Attempting uninstall: pyyaml\n",
      "    Found existing installation: PyYAML 3.13\n",
      "    Uninstalling PyYAML-3.13:\n",
      "      Successfully uninstalled PyYAML-3.13\n",
      "Successfully installed huggingface-hub-0.14.1 pyyaml-6.0 tokenizers-0.13.3 transformers-4.29.2\n",
      "Note: you may need to restart the kernel to use updated packages.\n"
     ]
    },
    {
     "name": "stderr",
     "output_type": "stream",
     "text": [
      "ERROR: pip's dependency resolver does not currently take into account all the packages that are installed. This behaviour is the source of the following dependency conflicts.\n",
      "conda-repo-cli 1.0.41 requires requests_mock, which is not installed.\n",
      "distributed 2022.7.0 requires tornado<6.2,>=6.0.3, but you have tornado 6.3.1 which is incompatible.\n",
      "conda-repo-cli 1.0.41 requires clyent==1.2.1, but you have clyent 1.2.2 which is incompatible.\n",
      "conda-repo-cli 1.0.41 requires nbformat==5.4.0, but you have nbformat 5.5.0 which is incompatible.\n",
      "chatterbot-corpus 1.2.0 requires PyYAML<4.0,>=3.12, but you have pyyaml 6.0 which is incompatible.\n"
     ]
    }
   ],
   "source": [
    "pip install transformers"
   ]
  },
  {
   "cell_type": "code",
   "execution_count": 45,
   "id": "75184fa2",
   "metadata": {},
   "outputs": [
    {
     "name": "stderr",
     "output_type": "stream",
     "text": [
      "All model checkpoint layers were used when initializing TFBertForQuestionAnswering.\n",
      "\n",
      "Some layers of TFBertForQuestionAnswering were not initialized from the model checkpoint at bert-base-uncased and are newly initialized: ['qa_outputs']\n",
      "You should probably TRAIN this model on a down-stream task to be able to use it for predictions and inference.\n"
     ]
    },
    {
     "ename": "InvalidArgumentError",
     "evalue": "Value for attr 'T' of string is not in the list of allowed values: float, double, int32, uint8, int16, int8, complex64, int64, qint8, quint8, qint32, bfloat16, uint16, complex128, half, uint32, uint64, bool\n\t; NodeDef: {{node ArgMax}}; Op<name=ArgMax; signature=input:T, dimension:Tidx -> output:output_type; attr=T:type,allowed=[DT_FLOAT, DT_DOUBLE, DT_INT32, DT_UINT8, DT_INT16, 16534343205130372495, DT_COMPLEX128, DT_HALF, DT_UINT32, DT_UINT64, DT_BOOL]; attr=Tidx:type,default=DT_INT32,allowed=[DT_INT16, DT_INT32, DT_INT64]; attr=output_type:type,default=DT_INT64,allowed=[DT_INT16, DT_UINT16, DT_INT32, DT_INT64]> [Op:ArgMax]",
     "output_type": "error",
     "traceback": [
      "\u001b[1;31m---------------------------------------------------------------------------\u001b[0m",
      "\u001b[1;31mInvalidArgumentError\u001b[0m                      Traceback (most recent call last)",
      "Cell \u001b[1;32mIn[45], line 18\u001b[0m\n\u001b[0;32m     15\u001b[0m start_scores, end_scores \u001b[38;5;241m=\u001b[39m model(encoded_inputs[\u001b[38;5;124m\"\u001b[39m\u001b[38;5;124minput_ids\u001b[39m\u001b[38;5;124m\"\u001b[39m], attention_mask\u001b[38;5;241m=\u001b[39mencoded_inputs[\u001b[38;5;124m\"\u001b[39m\u001b[38;5;124mattention_mask\u001b[39m\u001b[38;5;124m\"\u001b[39m])\n\u001b[0;32m     17\u001b[0m \u001b[38;5;66;03m# Find the start and end indices of the answer in the context\u001b[39;00m\n\u001b[1;32m---> 18\u001b[0m start_index \u001b[38;5;241m=\u001b[39m \u001b[43mtf\u001b[49m\u001b[38;5;241;43m.\u001b[39;49m\u001b[43margmax\u001b[49m\u001b[43m(\u001b[49m\u001b[43mstart_scores\u001b[49m\u001b[43m,\u001b[49m\u001b[43m \u001b[49m\u001b[43maxis\u001b[49m\u001b[38;5;241;43m=\u001b[39;49m\u001b[38;5;241;43m1\u001b[39;49m\u001b[43m)\u001b[49m[\u001b[38;5;241m0\u001b[39m]\n\u001b[0;32m     19\u001b[0m end_index \u001b[38;5;241m=\u001b[39m tf\u001b[38;5;241m.\u001b[39margmax(end_scores, axis\u001b[38;5;241m=\u001b[39m\u001b[38;5;241m1\u001b[39m)[\u001b[38;5;241m0\u001b[39m]\n\u001b[0;32m     21\u001b[0m \u001b[38;5;66;03m# Decode the answer\u001b[39;00m\n",
      "File \u001b[1;32m~\\anaconda3\\lib\\site-packages\\tensorflow\\python\\util\\traceback_utils.py:153\u001b[0m, in \u001b[0;36mfilter_traceback.<locals>.error_handler\u001b[1;34m(*args, **kwargs)\u001b[0m\n\u001b[0;32m    151\u001b[0m \u001b[38;5;28;01mexcept\u001b[39;00m \u001b[38;5;167;01mException\u001b[39;00m \u001b[38;5;28;01mas\u001b[39;00m e:\n\u001b[0;32m    152\u001b[0m   filtered_tb \u001b[38;5;241m=\u001b[39m _process_traceback_frames(e\u001b[38;5;241m.\u001b[39m__traceback__)\n\u001b[1;32m--> 153\u001b[0m   \u001b[38;5;28;01mraise\u001b[39;00m e\u001b[38;5;241m.\u001b[39mwith_traceback(filtered_tb) \u001b[38;5;28;01mfrom\u001b[39;00m \u001b[38;5;28;01mNone\u001b[39;00m\n\u001b[0;32m    154\u001b[0m \u001b[38;5;28;01mfinally\u001b[39;00m:\n\u001b[0;32m    155\u001b[0m   \u001b[38;5;28;01mdel\u001b[39;00m filtered_tb\n",
      "File \u001b[1;32m~\\anaconda3\\lib\\site-packages\\tensorflow\\python\\eager\\execute.py:52\u001b[0m, in \u001b[0;36mquick_execute\u001b[1;34m(op_name, num_outputs, inputs, attrs, ctx, name)\u001b[0m\n\u001b[0;32m     50\u001b[0m \u001b[38;5;28;01mtry\u001b[39;00m:\n\u001b[0;32m     51\u001b[0m   ctx\u001b[38;5;241m.\u001b[39mensure_initialized()\n\u001b[1;32m---> 52\u001b[0m   tensors \u001b[38;5;241m=\u001b[39m pywrap_tfe\u001b[38;5;241m.\u001b[39mTFE_Py_Execute(ctx\u001b[38;5;241m.\u001b[39m_handle, device_name, op_name,\n\u001b[0;32m     53\u001b[0m                                       inputs, attrs, num_outputs)\n\u001b[0;32m     54\u001b[0m \u001b[38;5;28;01mexcept\u001b[39;00m core\u001b[38;5;241m.\u001b[39m_NotOkStatusException \u001b[38;5;28;01mas\u001b[39;00m e:\n\u001b[0;32m     55\u001b[0m   \u001b[38;5;28;01mif\u001b[39;00m name \u001b[38;5;129;01mis\u001b[39;00m \u001b[38;5;129;01mnot\u001b[39;00m \u001b[38;5;28;01mNone\u001b[39;00m:\n",
      "\u001b[1;31mInvalidArgumentError\u001b[0m: Value for attr 'T' of string is not in the list of allowed values: float, double, int32, uint8, int16, int8, complex64, int64, qint8, quint8, qint32, bfloat16, uint16, complex128, half, uint32, uint64, bool\n\t; NodeDef: {{node ArgMax}}; Op<name=ArgMax; signature=input:T, dimension:Tidx -> output:output_type; attr=T:type,allowed=[DT_FLOAT, DT_DOUBLE, DT_INT32, DT_UINT8, DT_INT16, 16534343205130372495, DT_COMPLEX128, DT_HALF, DT_UINT32, DT_UINT64, DT_BOOL]; attr=Tidx:type,default=DT_INT32,allowed=[DT_INT16, DT_INT32, DT_INT64]; attr=output_type:type,default=DT_INT64,allowed=[DT_INT16, DT_UINT16, DT_INT32, DT_INT64]> [Op:ArgMax]"
     ]
    }
   ],
   "source": [
    "\n",
    "\n",
    "# Load pre-trained model and tokenizer\n",
    "model_name = \"bert-base-uncased\"\n",
    "tokenizer = BertTokenizer.from_pretrained(model_name)\n",
    "model = TFBertForQuestionAnswering.from_pretrained(model_name)\n",
    "\n",
    "# Encode input question and context\n",
    "question = \"What is the capital of France?\"\n",
    "context = \"Paris is the capital of France.\"\n",
    "encoded_inputs = tokenizer(question, context, return_tensors=\"tf\")\n",
    "\n",
    "# Answer the question\n",
    "start_scores, end_scores = model(encoded_inputs[\"input_ids\"], attention_mask=encoded_inputs[\"attention_mask\"])\n",
    "\n",
    "# Find the start and end indices of the answer in the context\n",
    "start_index = tf.argmax(start_scores, axis=1).numpy()[0]\n",
    "end_index = tf.argmax(end_scores, axis=1).numpy()[0]\n",
    "\n",
    "# Decode the answer\n",
    "answer = tokenizer.convert_tokens_to_string(tokenizer.convert_ids_to_tokens(encoded_inputs[\"input_ids\"][0][start_index:end_index+1]))\n",
    "\n",
    "print(\"Question:\", question)\n",
    "print(\"Answer:\", answer)\n"
   ]
  },
  {
   "cell_type": "code",
   "execution_count": 47,
   "id": "6e13cfe4",
   "metadata": {},
   "outputs": [
    {
     "ename": "ImportError",
     "evalue": "cannot import name 'get_home_dir' from 'transformers' (C:\\Users\\user\\anaconda3\\lib\\site-packages\\transformers\\__init__.py)",
     "output_type": "error",
     "traceback": [
      "\u001b[1;31m---------------------------------------------------------------------------\u001b[0m",
      "\u001b[1;31mImportError\u001b[0m                               Traceback (most recent call last)",
      "Cell \u001b[1;32mIn[47], line 1\u001b[0m\n\u001b[1;32m----> 1\u001b[0m \u001b[38;5;28;01mfrom\u001b[39;00m \u001b[38;5;21;01mtransformers\u001b[39;00m \u001b[38;5;28;01mimport\u001b[39;00m TFBertForQuestionAnswering, BertTokenizer, get_home_dir\n\u001b[0;32m      3\u001b[0m \u001b[38;5;66;03m# Load the pretrained model and tokenizer\u001b[39;00m\n\u001b[0;32m      4\u001b[0m model \u001b[38;5;241m=\u001b[39m TFBertForQuestionAnswering\u001b[38;5;241m.\u001b[39mfrom_pretrained(\u001b[38;5;124m\"\u001b[39m\u001b[38;5;124mbert-base-uncased\u001b[39m\u001b[38;5;124m\"\u001b[39m)\n",
      "\u001b[1;31mImportError\u001b[0m: cannot import name 'get_home_dir' from 'transformers' (C:\\Users\\user\\anaconda3\\lib\\site-packages\\transformers\\__init__.py)"
     ]
    }
   ],
   "source": [
    "from transformers import TFBertForQuestionAnswering, BertTokenizer, get_home_dir\n",
    "\n",
    "# Load the pretrained model and tokenizer\n",
    "model = TFBertForQuestionAnswering.from_pretrained(\"bert-base-uncased\")\n",
    "tokenizer = BertTokenizer.from_pretrained(\"bert-base-uncased\")\n",
    "\n",
    "# Get the home directory for Transformers\n",
    "home_dir = get_home_dir()\n",
    "\n",
    "# Print the paths for the downloaded model and tokenizer\n",
    "model_path = f\"{home_dir}/.cache/torch/transformers/{model.base_model_prefix}/\"\n",
    "tokenizer_path = f\"{home_dir}/.cache/torch/transformers/{tokenizer.name}/\"\n",
    "\n",
    "print(\"Model Path:\", model_path)\n",
    "print(\"Tokenizer Path:\", tokenizer_path)\n"
   ]
  },
  {
   "cell_type": "code",
   "execution_count": 51,
   "id": "ff80bbd7",
   "metadata": {},
   "outputs": [
    {
     "name": "stdout",
     "output_type": "stream",
     "text": [
      "C:\\Users\\user\\anaconda3\\lib\\site-packages\\transformers\\__init__.py\n"
     ]
    }
   ],
   "source": [
    "import transformers\n",
    "print(transformers.__file__)\n"
   ]
  },
  {
   "cell_type": "code",
   "execution_count": 50,
   "id": "d31ab185",
   "metadata": {},
   "outputs": [
    {
     "name": "stderr",
     "output_type": "stream",
     "text": [
      "WARNING: Skipping transformers as it is not installed.\n"
     ]
    }
   ],
   "source": [
    "!pip uninstall transformers"
   ]
  },
  {
   "cell_type": "code",
   "execution_count": null,
   "id": "0c320b83",
   "metadata": {},
   "outputs": [],
   "source": []
  }
 ],
 "metadata": {
  "kernelspec": {
   "display_name": "Python 3 (ipykernel)",
   "language": "python",
   "name": "python3"
  },
  "language_info": {
   "codemirror_mode": {
    "name": "ipython",
    "version": 3
   },
   "file_extension": ".py",
   "mimetype": "text/x-python",
   "name": "python",
   "nbconvert_exporter": "python",
   "pygments_lexer": "ipython3",
   "version": "3.9.13"
  }
 },
 "nbformat": 4,
 "nbformat_minor": 5
}
